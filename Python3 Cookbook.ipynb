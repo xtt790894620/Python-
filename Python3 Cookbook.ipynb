{
 "cells": [
  {
   "cell_type": "markdown",
   "metadata": {},
   "source": [
    "# Python3 Cookbook Notes"
   ]
  },
  {
   "cell_type": "code",
   "execution_count": 3,
   "metadata": {},
   "outputs": [],
   "source": [
    "import sys\n",
    "res = []\n",
    "for line in sys.stdin:\n",
    "    s = line.strip()\n",
    "    substr = set()\n",
    "    kind = dict()\n",
    "    if len(s) <= 8:\n",
    "        res.append('NG')\n",
    "        continue\n",
    "        \n",
    "    for i in range(len(s)):\n",
    "        char =  s[i]\n",
    "        if 'a' <= char <= 'z':\n",
    "            kind['a'] = 1\n",
    "        elif 'A' <= char <= 'Z':\n",
    "            kind['A'] = 1\n",
    "        elif '0' <= char <= '9':\n",
    "            kind['0'] = 1\n",
    "        else:\n",
    "            #print(char, i)\n",
    "            #print('************')\n",
    "            kind['*'] = 1\n",
    "            \n",
    "        if s[i:i+3] in substr:\n",
    "            res.append('NG')\n",
    "            break\n",
    "        else: \n",
    "            substr.add(s[i:i+3])\n",
    "    else:\n",
    "        #print(kind)\n",
    "        if len(kind) > 2:\n",
    "            res.append('OK')\n",
    "        else:\n",
    "            res.append('NG')\n",
    "for yn in res:\n",
    "    print(yn)"
   ]
  },
  {
   "cell_type": "code",
   "execution_count": null,
   "metadata": {},
   "outputs": [],
   "source": []
  }
 ],
 "metadata": {
  "kernelspec": {
   "display_name": "Python 3",
   "language": "python",
   "name": "python3"
  },
  "language_info": {
   "codemirror_mode": {
    "name": "ipython",
    "version": 3
   },
   "file_extension": ".py",
   "mimetype": "text/x-python",
   "name": "python",
   "nbconvert_exporter": "python",
   "pygments_lexer": "ipython3",
   "version": "3.7.9"
  }
 },
 "nbformat": 4,
 "nbformat_minor": 4
}
