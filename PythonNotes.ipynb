{
 "cells": [
  {
   "cell_type": "markdown",
   "metadata": {},
   "source": [
    "# Python整理\n",
    "* 基础知识整理自白夜黑羽教程，Python100天项目，Learn Python In Y minutes"
   ]
  },
  {
   "cell_type": "markdown",
   "metadata": {},
   "source": [
    "# 虚拟环境管理\n",
    "   - Python3.2以后自带了虚拟环境管理库venv\n",
    "   - 执行python -m venv for_django 就创建了一个名字为for_django的虚拟环境，他与主机环境和其他虚拟环境是隔离开的\n",
    "   - 执行for_django\\Scripts\\for_django.bat 就激活了虚拟环境"
   ]
  },
  {
   "cell_type": "code",
   "execution_count": null,
   "metadata": {},
   "outputs": [],
   "source": []
  },
  {
   "cell_type": "markdown",
   "metadata": {},
   "source": [
    "# 语言元素"
   ]
  },
  {
   "cell_type": "markdown",
   "metadata": {},
   "source": [
    "* 变量类型转换函数  \n",
    "* chr()：将整数转换成该编码对应的字符串（一个字符）  \n",
    "* ord()：将字符串（一个字符）转换成对应的编码（整数）  "
   ]
  },
  {
   "cell_type": "code",
   "execution_count": 5,
   "metadata": {},
   "outputs": [
    {
     "name": "stdout",
     "output_type": "stream",
     "text": [
      "97\n",
      "a\n"
     ]
    }
   ],
   "source": [
    "print(ord('a'))\n",
    "print(chr(97))"
   ]
  },
  {
   "cell_type": "markdown",
   "metadata": {},
   "source": [
    "# 运算符相关"
   ]
  },
  {
   "cell_type": "markdown",
   "metadata": {},
   "source": [
    "* 比较运算符的优先级高于赋值运算符\n",
    "* 赋值运算符总是习惯性地写成=，应该是==\n",
    "* None是一个对象，比较时用is,而不能用=="
   ]
  },
  {
   "cell_type": "code",
   "execution_count": 5,
   "metadata": {
    "scrolled": true
   },
   "outputs": [
    {
     "name": "stdout",
     "output_type": "stream",
     "text": [
      "False\n"
     ]
    }
   ],
   "source": [
    "a = 1==3 #先执行1==3，得到False后，再赋值给a\n",
    "print(a)"
   ]
  },
  {
   "cell_type": "markdown",
   "metadata": {},
   "source": [
    "and 和 or 都具有短路的作用，即and左侧为False，那么将不会判断右侧，而or左侧为True右侧\n",
    "将不会被判断\n"
   ]
  },
  {
   "cell_type": "markdown",
   "metadata": {},
   "source": [
    "# 格式化输出"
   ]
  },
  {
   "cell_type": "code",
   "execution_count": 14,
   "metadata": {},
   "outputs": [
    {
     "name": "stdout",
     "output_type": "stream",
     "text": [
      "F=36\n",
      "36.0华氏度 = 2.2摄氏度\n",
      "36.0华氏度 = 2.2摄氏度\n",
      "36.0华氏度 = 2.2摄氏度\n"
     ]
    }
   ],
   "source": [
    "F = float(input('F='))\n",
    "C = (F-32) / 1.8\n",
    "\n",
    "print('%.1f华氏度 = %.1f摄氏度'%(F,C))\n",
    "\n",
    "print(f'{F:.1f}华氏度 = {C:.1f}摄氏度')\n",
    "\n",
    "print('{0:.1f}华氏度 = {1:.1f}摄氏度'.format(F,C)) #format时，内部的索引可省略\n"
   ]
  },
  {
   "cell_type": "markdown",
   "metadata": {},
   "source": [
    "## 扁平化优于嵌套，嵌套将影响代码的可读性"
   ]
  },
  {
   "cell_type": "markdown",
   "metadata": {},
   "source": [
    "## 函数的参数\n",
    "- 位置参数\n",
    "- 默认参数，通常需要设定为不可变对象\n",
    "- 关键字参数\n",
    "- 可变参数，可变关键字参数,\\*和\\**的适用"
   ]
  },
  {
   "cell_type": "code",
   "execution_count": 20,
   "metadata": {},
   "outputs": [
    {
     "name": "stdout",
     "output_type": "stream",
     "text": [
      "5\n",
      "0\n"
     ]
    }
   ],
   "source": [
    "#默认参数，如果不额外传入参数，函数的参数为默认参数\n",
    "def hello(a=0):\n",
    "    print(a)\n",
    "hello(5)\n",
    "hello()"
   ]
  },
  {
   "cell_type": "code",
   "execution_count": 2,
   "metadata": {},
   "outputs": [
    {
     "name": "stdout",
     "output_type": "stream",
     "text": [
      "<class 'tuple'>\n",
      "(5, 6, 7, 8, 9)\n",
      "35\n",
      "<class 'tuple'>\n",
      "(5, 6, 7, 8, 9)\n",
      "35\n"
     ]
    }
   ],
   "source": [
    "#不确定参数个数时使用可变参数\n",
    "def add(*args): #可变参数传入后在函数体内为tuple类型\n",
    "    print(type(args))\n",
    "    print(args) \n",
    "    sum1 = 0\n",
    "    for i in args:\n",
    "        sum1 += i\n",
    "    print(sum1)\n",
    "\n",
    "add(5,6,7,8,9)\n",
    "\n",
    "add(*[5,6,7,8,9]) #使用*将列表中的所有元素作为可变数组传入"
   ]
  },
  {
   "cell_type": "code",
   "execution_count": 6,
   "metadata": {},
   "outputs": [
    {
     "name": "stdout",
     "output_type": "stream",
     "text": [
      "name: Michael age: 30 other: {}\n",
      "name: Adam age: 45 other: {'gender': 'M', 'job': 'Engineer'}\n",
      "name: Jack age: 24 other: {'city': 'Beijing', 'job': 'Engineer'}\n"
     ]
    }
   ],
   "source": [
    "# **args表示接受可变个数的关键字参数\n",
    "def person(name, age, **kw): #args在传入时自动封装为字典形式\n",
    "    print('name:', name, 'age:', age, 'other:', kw)\n",
    "    \n",
    "person('Michael', 30)\n",
    "\n",
    "person('Adam', 45, gender='M', job='Engineer')\n",
    "\n",
    "extra = {'city': 'Beijing', 'job': 'Engineer'}\n",
    "person('Jack', 24, **extra) #使用**将字典的键值对作为关键字参数传入"
   ]
  },
  {
   "cell_type": "markdown",
   "metadata": {},
   "source": [
    "# 用模块来组织函数"
   ]
  },
  {
   "cell_type": "markdown",
   "metadata": {},
   "source": [
    "* python中一个.py文件就是一个模块  \n",
    "* 在不同的模块里有相同的函数，是可以被接受的  \n",
    "* 另外，如果模块文件中存在另外的可执行代码，在导入模块时会被执行\n",
    "* 我们并不想要执行他，则按照下面的方法进行封装\n",
    "* 导入模块后，使用dir(模块名)可以查看包含的方法和属性"
   ]
  },
  {
   "cell_type": "code",
   "execution_count": 8,
   "metadata": {},
   "outputs": [],
   "source": [
    "def main():  \n",
    "    #to do:add your code here\n",
    "    pass\n",
    "#__name__是python中的隐含变量，他代表的是模块的名字\n",
    "#模块直接被执行时，才为main,导入模块时不会执行if条件下的语句\n",
    "if __name__ == '__main__':\n",
    "    main()"
   ]
  },
  {
   "cell_type": "code",
   "execution_count": 104,
   "metadata": {
    "collapsed": true
   },
   "outputs": [
    {
     "data": {
      "text/plain": [
       "['__doc__',\n",
       " '__loader__',\n",
       " '__name__',\n",
       " '__package__',\n",
       " '__spec__',\n",
       " 'acos',\n",
       " 'acosh',\n",
       " 'asin',\n",
       " 'asinh',\n",
       " 'atan',\n",
       " 'atan2',\n",
       " 'atanh',\n",
       " 'ceil',\n",
       " 'copysign',\n",
       " 'cos',\n",
       " 'cosh',\n",
       " 'degrees',\n",
       " 'e',\n",
       " 'erf',\n",
       " 'erfc',\n",
       " 'exp',\n",
       " 'expm1',\n",
       " 'fabs',\n",
       " 'factorial',\n",
       " 'floor',\n",
       " 'fmod',\n",
       " 'frexp',\n",
       " 'fsum',\n",
       " 'gamma',\n",
       " 'gcd',\n",
       " 'hypot',\n",
       " 'inf',\n",
       " 'isclose',\n",
       " 'isfinite',\n",
       " 'isinf',\n",
       " 'isnan',\n",
       " 'ldexp',\n",
       " 'lgamma',\n",
       " 'log',\n",
       " 'log10',\n",
       " 'log1p',\n",
       " 'log2',\n",
       " 'modf',\n",
       " 'nan',\n",
       " 'pi',\n",
       " 'pow',\n",
       " 'radians',\n",
       " 'remainder',\n",
       " 'sin',\n",
       " 'sinh',\n",
       " 'sqrt',\n",
       " 'tan',\n",
       " 'tanh',\n",
       " 'tau',\n",
       " 'trunc']"
      ]
     },
     "execution_count": 104,
     "metadata": {},
     "output_type": "execute_result"
    }
   ],
   "source": [
    "import math #使用dir函数来查看该模块下的方法和属性\n",
    "dir(math)"
   ]
  },
  {
   "cell_type": "markdown",
   "metadata": {},
   "source": [
    "## 变量的作用域"
   ]
  },
  {
   "cell_type": "markdown",
   "metadata": {},
   "source": [
    "nonlocal在函数内部声明变量时\n",
    "- 含义为该变量不是当前函数内部的局部变量，也不是全局变量  \n",
    "- 避免使用全局变量，以降低程序之间的耦合，不妨碍垃圾回收\n",
    "- 如果需要在函数调用结束以后，仍然需要用到变量的值，需要用到闭包（参考interview notes）\n",
    "- 是当前函数的父函数内部的局部变量\n",
    "- 当程序运行当包括某个变量的语句时，将会按照LEGB的顺序去查找变量的值"
   ]
  },
  {
   "cell_type": "code",
   "execution_count": 25,
   "metadata": {},
   "outputs": [
    {
     "name": "stdout",
     "output_type": "stream",
     "text": [
      "6\n"
     ]
    }
   ],
   "source": [
    "count = 100\n",
    "def f():\n",
    "    count = 1\n",
    "    def x():\n",
    "        nonlocal count #这里改变的父函数内变量count的值\n",
    "        count += 5\n",
    "    x()\n",
    "    return count\n",
    "print(f())      "
   ]
  },
  {
   "cell_type": "markdown",
   "metadata": {},
   "source": [
    "# 字符串"
   ]
  },
  {
   "cell_type": "markdown",
   "metadata": {},
   "source": [
    "- 使用*号，可以对字符串进行解绑（只要是可迭代对象都可以解绑）"
   ]
  },
  {
   "cell_type": "code",
   "execution_count": 75,
   "metadata": {},
   "outputs": [
    {
     "name": "stdout",
     "output_type": "stream",
     "text": [
      "['*', '-2', '-2', 'Unprivileged User']\n"
     ]
    }
   ],
   "source": [
    "line = 'nobody:*:-2:-2:Unprivileged User:/var/empty:/usr/bin/false'\n",
    "uname, *fields, homedir, sh = line.split(':')\n",
    "print(fields) #以:为分隔符分隔，赋值给可变对象化fields"
   ]
  },
  {
   "cell_type": "markdown",
   "metadata": {},
   "source": [
    "* 合并字符串"
   ]
  },
  {
   "cell_type": "code",
   "execution_count": 12,
   "metadata": {},
   "outputs": [
    {
     "name": "stdout",
     "output_type": "stream",
     "text": [
      "kobebryant\n",
      "kobe bryant\n"
     ]
    }
   ],
   "source": [
    "a,b = 'kobe','bryant'\n",
    "print(a+b)\n",
    "print('kobe ' 'bryant')"
   ]
  },
  {
   "cell_type": "markdown",
   "metadata": {},
   "source": [
    "- 不同行的字符组成同一个字符串用"
   ]
  },
  {
   "cell_type": "code",
   "execution_count": 11,
   "metadata": {},
   "outputs": [
    {
     "name": "stdout",
     "output_type": "stream",
     "text": [
      "\n",
      "wo ai ni \n",
      "ni ai wo \n",
      "mi xue bing\n",
      "cheng tian mi\n",
      "mi\n",
      "\n"
     ]
    }
   ],
   "source": [
    "S = '''\n",
    "wo ai ni \n",
    "ni ai wo \n",
    "mi xue bing\n",
    "cheng tian mi\n",
    "mi\n",
    "'''\n",
    "print(S)"
   ]
  },
  {
   "cell_type": "markdown",
   "metadata": {},
   "source": [
    "转义字符'\\'的使用\n",
    "- \\n为换行符  \n",
    "- \\t为制表符tab \n",
    "- 如果要是\\仅代表'\\\\'而不是转义字符字符串前+r"
   ]
  },
  {
   "cell_type": "code",
   "execution_count": 16,
   "metadata": {},
   "outputs": [
    {
     "name": "stdout",
     "output_type": "stream",
     "text": [
      "a\n",
      "b\n",
      "a\\nb\n"
     ]
    }
   ],
   "source": [
    "S1 = 'a\\nb'\n",
    "S2 = r'a\\nb'\n",
    "print(S1)\n",
    "print(S2)"
   ]
  },
  {
   "cell_type": "markdown",
   "metadata": {},
   "source": [
    "- 字符串处理的相关函数"
   ]
  },
  {
   "cell_type": "code",
   "execution_count": 8,
   "metadata": {},
   "outputs": [
    {
     "name": "stdout",
     "output_type": "stream",
     "text": [
      " kobe bryant \n",
      " Kobe Bryant \n",
      " KOBE BRYANT \n",
      "6\n",
      "6\n",
      "False\n",
      "False\n",
      "*** kobe bryant ****\n",
      "----------------- kobe bryant \n",
      "False\n",
      "False\n",
      "False\n",
      "kobe bryant\n",
      "['kobe', 'bryant']\n",
      "kobe bean bryant\n"
     ]
    }
   ],
   "source": [
    "S = ' kobe bryant '\n",
    "print(S.capitalize()) #获得首字母大写后的字符串\n",
    "print(S.title()) #每个单词首字母大写后的字符串\n",
    "print(S.upper()) #字符串整个变大写\n",
    "print(S.find('br')) #查找子字符串的位置\n",
    "print(S.index('br')) #查找子字符串的位置\n",
    "print(S.startswith('kobe')) #验证是否以某字符串开头\n",
    "print(S.endswith('ant')) #验证是否以某字符串结尾\n",
    "\n",
    "#字符串末位位置为20\n",
    "print(S.center(20, '*')) #将字符串以指定的宽度居中，并在两侧填充指定的字符\n",
    "\n",
    "#字符串末位位置为30\n",
    "print(S.rjust(30, '-')) #将字符串以指定的宽度靠右放置，左侧填充指定的字符\n",
    "\n",
    "print(S.isdigit()) #检查字符串是否是数字构成\n",
    "print(S.isalpha()) #检查字符串是否是字母构成\n",
    "print(S.isalnum()) #检查字符串是否由数字和字母构成\n",
    "print(S.strip()) #修剪字符串两侧空格\n",
    "\n",
    "S1 = 'kobe bryant'\n",
    "print(S1.split(' '))#将字符串以某一参数为间隔，分隔开后，每个小部分作为列表的一个元素，返回一个列表\n",
    "\n",
    "S2 = S1.replace('kobe', 'kobe bean')\n",
    "print(S2)"
   ]
  },
  {
   "cell_type": "markdown",
   "metadata": {},
   "source": [
    "- join函数的使用(Leetcode常用)\n",
    " - str(某种标志字符串，可以为空).join(['a','b','c'])将字符列表以字符str为间隔链接起来"
   ]
  },
  {
   "cell_type": "code",
   "execution_count": 3,
   "metadata": {},
   "outputs": [
    {
     "name": "stdout",
     "output_type": "stream",
     "text": [
      "k-o-b-e-b-r-y-a-n-t\n",
      "k-o-b-e\n"
     ]
    }
   ],
   "source": [
    "icon = '-'\n",
    "str1 = [i for i in 'kobebryant']\n",
    "print(icon.join(str1))\n",
    "print(icon.join('kobe'))"
   ]
  },
  {
   "cell_type": "markdown",
   "metadata": {},
   "source": [
    "# Python 内置数据结构"
   ]
  },
  {
   "cell_type": "code",
   "execution_count": 52,
   "metadata": {},
   "outputs": [
    {
     "ename": "TypeError",
     "evalue": "unhashable type: 'list'",
     "output_type": "error",
     "traceback": [
      "\u001b[1;31m---------------------------------------------------------------------------\u001b[0m",
      "\u001b[1;31mTypeError\u001b[0m                                 Traceback (most recent call last)",
      "\u001b[1;32m<ipython-input-52-2d8bad8b5703>\u001b[0m in \u001b[0;36m<module>\u001b[1;34m\u001b[0m\n\u001b[1;32m----> 1\u001b[1;33m \u001b[0ma\u001b[0m \u001b[1;33m=\u001b[0m \u001b[1;33m{\u001b[0m\u001b[1;36m1\u001b[0m\u001b[1;33m,\u001b[0m\u001b[1;36m2\u001b[0m\u001b[1;33m,\u001b[0m\u001b[1;36m3\u001b[0m\u001b[1;33m,\u001b[0m\u001b[1;33m[\u001b[0m\u001b[1;36m5\u001b[0m\u001b[1;33m,\u001b[0m\u001b[1;36m6\u001b[0m\u001b[1;33m]\u001b[0m\u001b[1;33m}\u001b[0m\u001b[1;33m\u001b[0m\u001b[1;33m\u001b[0m\u001b[0m\n\u001b[0m",
      "\u001b[1;31mTypeError\u001b[0m: unhashable type: 'list'"
     ]
    }
   ],
   "source": [
    "a = {1,2,3,[5,6]}"
   ]
  },
  {
   "cell_type": "markdown",
   "metadata": {},
   "source": [
    "* 元组内部的元素只能是不可变对象，数值，字符串等等,这句话是错误的\n",
    "* 元组的元素不可以修改，这句话才对(注意这里只保证一级元素不能被修改，嵌套的部分是能被修改的)\n",
    "* 元组：只有一个元素的元组需要包含一个逗号,例子如下\n",
    "* 元组：Unpack操作,等号的两边都是元组,且()可选\n",
    "* 当函数具有多个返回值时，缺省的组成元组\n",
    "- 列表和元祖之间可以相互转换，list和tuple函数"
   ]
  },
  {
   "cell_type": "code",
   "execution_count": 7,
   "metadata": {},
   "outputs": [
    {
     "name": "stdout",
     "output_type": "stream",
     "text": [
      "(1, 2, 3, [1, 2, 5])\n",
      "<class 'tuple'>\n",
      "2\n"
     ]
    }
   ],
   "source": [
    "a = (1,2,3,4,5)\n",
    "b = (1,2,3,[1,2])\n",
    "b[3].append(5)\n",
    "print(b)\n",
    "print(type(b))\n",
    "print(a[1])\n",
    "# a[1] = 10 #不可变对象"
   ]
  },
  {
   "cell_type": "markdown",
   "metadata": {},
   "source": [
    "* Python，Swap魔法糖原理：与元组相关  \n",
    " - a = 1  #变量a指向1  \n",
    " - b = 2  #变量b指向2  \n",
    " - a,b = b,a #该行代码实际上等价于(a,b) = (b,a),创建元组后将b,a放入，赋值语句即将a指向b所   指向的对象，将b指向a指向的对象  \n",
    " - 参考Leetcode翻转链表题目"
   ]
  },
  {
   "cell_type": "code",
   "execution_count": 31,
   "metadata": {},
   "outputs": [
    {
     "name": "stdout",
     "output_type": "stream",
     "text": [
      "<class 'int'>\n",
      "<class 'tuple'>\n",
      "<class 'tuple'>\n"
     ]
    }
   ],
   "source": [
    "print(type(1))\n",
    "print(type((1,)))\n",
    "print(type(()))"
   ]
  },
  {
   "cell_type": "markdown",
   "metadata": {},
   "source": [
    "- 解绑：只要是可迭代的对象，都可以用多个变量进行解绑，迭代器和生成器也可以"
   ]
  },
  {
   "cell_type": "code",
   "execution_count": 4,
   "metadata": {},
   "outputs": [
    {
     "name": "stdout",
     "output_type": "stream",
     "text": [
      "1 2 3 4\n",
      "1 [2, 3] 4\n",
      "100 200 300\n"
     ]
    }
   ],
   "source": [
    "# 解绑\n",
    "a,b,c,d = (1,2,3,4)\n",
    "print(a,b,c,d)\n",
    "\n",
    "#Python中的多重赋值其实就是元组的解绑\n",
    "e,f = 1,2 # 等价于a,b = (1,2)\n",
    "\n",
    "#能够使用*进行可变解绑\n",
    "x,*y,z = (1,2,3,4)\n",
    "print(x,y,z)\n",
    "\n",
    "# 对迭代器的解绑\n",
    "a1, b1, c1 = iter([100, 200, 300])\n",
    "print(a1,b1,c1)"
   ]
  },
  {
   "cell_type": "markdown",
   "metadata": {},
   "source": [
    "* 列表\n",
    " - 返回列表的索引和对应的值，函数enumerate的使用\n",
    " - 两个列表之间可以使用>,<运算符进行比较，首个元素大的列表更大"
   ]
  },
  {
   "cell_type": "code",
   "execution_count": 33,
   "metadata": {},
   "outputs": [
    {
     "name": "stdout",
     "output_type": "stream",
     "text": [
      "[4]\n"
     ]
    }
   ],
   "source": [
    "A = [2,3,4,5]\n",
    "B = [4]\n",
    "if A > B:\n",
    "    print(A)\n",
    "else:\n",
    "    print(B)"
   ]
  },
  {
   "cell_type": "markdown",
   "metadata": {},
   "source": [
    "- Python的列表是一个可变长度的顺序存储结构，每一个位置存放的都是元素对象的指针。\n",
    "- 切片操作将会创建一个新的对象"
   ]
  },
  {
   "cell_type": "code",
   "execution_count": 6,
   "metadata": {},
   "outputs": [
    {
     "name": "stdout",
     "output_type": "stream",
     "text": [
      "False\n"
     ]
    }
   ],
   "source": [
    "a = [i for i in range(10)]\n",
    "print(a is a[:])"
   ]
  },
  {
   "cell_type": "code",
   "execution_count": 32,
   "metadata": {
    "collapsed": true
   },
   "outputs": [
    {
     "name": "stdout",
     "output_type": "stream",
     "text": [
      "0 0\n",
      "1 1\n",
      "2 4\n",
      "3 9\n",
      "4 16\n",
      "5 25\n",
      "6 36\n",
      "7 49\n",
      "8 64\n",
      "9 81\n"
     ]
    }
   ],
   "source": [
    "list1 = [i**2 for i in range(10)]\n",
    "for idx,item in enumerate(list1):\n",
    "    print(idx,item)"
   ]
  },
  {
   "cell_type": "markdown",
   "metadata": {},
   "source": [
    "- 合并两个列表"
   ]
  },
  {
   "cell_type": "code",
   "execution_count": 27,
   "metadata": {},
   "outputs": [
    {
     "name": "stdout",
     "output_type": "stream",
     "text": [
      "[0, 1, 4, 9, 16, 25, 36, 49, 64, 81, 1, 2, 3, 1, 2, 3, 0, 1, 2, 1, 2, 3]\n",
      "[0, 1, 4, 9, 16, 25, 36, 49, 64, 81, 1, 2, 3, 1, 2, 3, 0, 1, 2, 1, 2, 3, 0, 1, 2]\n"
     ]
    }
   ],
   "source": [
    "list1 += [1,2,3]\n",
    "print(list1)\n",
    "list1.extend([i for i in range(3)])\n",
    "print(list1)"
   ]
  },
  {
   "cell_type": "markdown",
   "metadata": {},
   "source": [
    "- 对列表进行排序,列表元素如果是字符串则按照首字母进行排序"
   ]
  },
  {
   "cell_type": "code",
   "execution_count": 35,
   "metadata": {},
   "outputs": [
    {
     "name": "stdout",
     "output_type": "stream",
     "text": [
      "['apple', 'blueberry', 'internationalization', 'orange', 'zoo']\n"
     ]
    }
   ],
   "source": [
    "list1 = ['orange', 'apple', 'zoo', 'internationalization', 'blueberry']\n",
    "list2 = sorted(list1) #不修改原数组，函数的设计不要产生副作用\n",
    "print(list2)"
   ]
  },
  {
   "cell_type": "code",
   "execution_count": 36,
   "metadata": {},
   "outputs": [
    {
     "name": "stdout",
     "output_type": "stream",
     "text": [
      "['zoo', 'orange', 'internationalization', 'blueberry', 'apple']\n",
      "['zoo', 'apple', 'orange', 'blueberry', 'internationalization']\n",
      "['zoo', 'orange', 'internationalization', 'blueberry', 'apple']\n"
     ]
    }
   ],
   "source": [
    "#sorted函数可以指定函数的关键字\n",
    "list2 = sorted(list1,reverse = True)\n",
    "print(list2)\n",
    "\n",
    "list3 = sorted(list1,key = len) #按照字符串的长度进行排序\n",
    "print(list3)\n",
    "\n",
    "list1.sort(reverse = True)\n",
    "print(list1)"
   ]
  },
  {
   "cell_type": "markdown",
   "metadata": {},
   "source": [
    "- 列表生成式和生成器\n",
    " - 列表生成式直接创建出列表，其占据内存空间大\n",
    " - 生成器占用内存小，是python的一种对象，使用for循环可以对其进行遍历"
   ]
  },
  {
   "cell_type": "code",
   "execution_count": 42,
   "metadata": {},
   "outputs": [
    {
     "name": "stdout",
     "output_type": "stream",
     "text": [
      "['a1', 'a2', 'a3', 'a4', 'a5', 'b1', 'b2', 'b3', 'b4', 'b5', 'c1', 'c2', 'c3', 'c4', 'c5', 'd1', 'd2', 'd3', 'd4', 'd5', 'e1', 'e2', 'e3', 'e4', 'e5']\n",
      "264\n",
      "<generator object <genexpr> at 0x00000196B048D9C8>\n",
      "120\n",
      "a1\n",
      "a2\n",
      "a3\n",
      "a4\n",
      "a5\n",
      "b1\n",
      "b2\n",
      "b3\n",
      "b4\n",
      "b5\n",
      "c1\n",
      "c2\n",
      "c3\n",
      "c4\n",
      "c5\n",
      "d1\n",
      "d2\n",
      "d3\n",
      "d4\n",
      "d5\n",
      "e1\n",
      "e2\n",
      "e3\n",
      "e4\n",
      "e5\n"
     ]
    }
   ],
   "source": [
    "list1 = [i+j for i in 'abcde' for j in '12345']\n",
    "print(list1)\n",
    "import sys\n",
    "print(sys.getsizeof(list1)) #占内存264\n",
    "\n",
    "generator1 = (i+j for i in 'abcde' for j in '12345')\n",
    "print(generator1)\n",
    "print(sys.getsizeof(generator1)) #占内存120\n",
    "for i in generator1:\n",
    "    print(i)"
   ]
  },
  {
   "cell_type": "markdown",
   "metadata": {},
   "source": [
    "- 在函数体内的循环语句下，使用yield 字段生成器创建\n",
    " - 函数的调用f()是generator对象"
   ]
  },
  {
   "cell_type": "markdown",
   "metadata": {},
   "source": [
    "- 生成器占用内存小，是python的一种对象，使用for循环可以对其进行遍历"
   ]
  },
  {
   "cell_type": "code",
   "execution_count": 39,
   "metadata": {},
   "outputs": [
    {
     "name": "stdout",
     "output_type": "stream",
     "text": [
      "<generator object <genexpr> at 0x00000196B048DD48>\n",
      "a1\n",
      "a2\n",
      "a3\n",
      "a4\n",
      "a5\n",
      "b1\n",
      "b2\n",
      "b3\n",
      "b4\n",
      "b5\n",
      "c1\n",
      "c2\n",
      "c3\n",
      "c4\n",
      "c5\n",
      "d1\n",
      "d2\n",
      "d3\n",
      "d4\n",
      "d5\n",
      "e1\n",
      "e2\n",
      "e3\n",
      "e4\n",
      "e5\n"
     ]
    }
   ],
   "source": [
    "generator1 = (i+j for i in 'abcde' for j in '12345')\n",
    "print(generator1)\n",
    "for i in generator1:\n",
    "    print(i)"
   ]
  },
  {
   "cell_type": "code",
   "execution_count": 53,
   "metadata": {},
   "outputs": [
    {
     "name": "stdout",
     "output_type": "stream",
     "text": [
      "<generator object f at 0x00000196B048DCC8>\n",
      "0\n",
      "1\n",
      "2\n",
      "3\n",
      "4\n",
      "5\n",
      "6\n",
      "7\n",
      "8\n",
      "9\n"
     ]
    }
   ],
   "source": [
    "def f():\n",
    "    for i in range(10):\n",
    "        yield i\n",
    "print(f()) #函数调用f()是一个generator对象\n",
    "for i in f():\n",
    "    print(i)"
   ]
  },
  {
   "cell_type": "markdown",
   "metadata": {},
   "source": [
    "- 集合内部的元素只可以是不可变对象，包括数值，字符串,元组\n",
    "- 创建空集合的语句时a = set(),而不是a = {}\n",
    "- 集合如同数学概念中的集合，不允许存在重复元素，可以进行并集交集差集运算"
   ]
  },
  {
   "cell_type": "code",
   "execution_count": 60,
   "metadata": {},
   "outputs": [
    {
     "ename": "TypeError",
     "evalue": "unhashable type: 'list'",
     "output_type": "error",
     "traceback": [
      "\u001b[1;31m---------------------------------------------------------------------------\u001b[0m",
      "\u001b[1;31mTypeError\u001b[0m                                 Traceback (most recent call last)",
      "\u001b[1;32m<ipython-input-60-d5a9eee46c08>\u001b[0m in \u001b[0;36m<module>\u001b[1;34m\u001b[0m\n\u001b[1;32m----> 1\u001b[1;33m \u001b[0mset1\u001b[0m \u001b[1;33m=\u001b[0m \u001b[1;33m{\u001b[0m\u001b[1;36m1\u001b[0m\u001b[1;33m,\u001b[0m\u001b[1;36m2\u001b[0m\u001b[1;33m,\u001b[0m\u001b[1;36m3\u001b[0m\u001b[1;33m,\u001b[0m\u001b[1;34m'kobe'\u001b[0m\u001b[1;33m,\u001b[0m\u001b[1;33m[\u001b[0m\u001b[1;36m12\u001b[0m\u001b[1;33m,\u001b[0m\u001b[1;36m3\u001b[0m\u001b[1;33m]\u001b[0m\u001b[1;33m}\u001b[0m\u001b[1;33m\u001b[0m\u001b[1;33m\u001b[0m\u001b[0m\n\u001b[0m",
      "\u001b[1;31mTypeError\u001b[0m: unhashable type: 'list'"
     ]
    }
   ],
   "source": [
    "set1 = {1,2,3,'kobe',[12,3]} "
   ]
  },
  {
   "cell_type": "code",
   "execution_count": 58,
   "metadata": {},
   "outputs": [
    {
     "name": "stdout",
     "output_type": "stream",
     "text": [
      "set()\n",
      "<class 'set'>\n"
     ]
    }
   ],
   "source": [
    "set2 = set()\n",
    "print(set2)\n",
    "print(type(set2))"
   ]
  },
  {
   "cell_type": "markdown",
   "metadata": {},
   "source": [
    "- 向集合内添加和删除元素"
   ]
  },
  {
   "cell_type": "code",
   "execution_count": 61,
   "metadata": {},
   "outputs": [
    {
     "name": "stdout",
     "output_type": "stream",
     "text": [
      "{1, 2, 3, 4}\n",
      "{0, 1, 2, 3, 4, 8}\n",
      "{1, 2, 3, 4, 8}\n",
      "{1, 2, 3, 4}\n"
     ]
    }
   ],
   "source": [
    "set1 = {1,2,3}\n",
    "set1.add(4)\n",
    "print(set1)\n",
    "set1.update([8,0])\n",
    "print(set1)\n",
    "set1.discard(0)\n",
    "print(set1)\n",
    "set1.remove(8)\n",
    "print(set1)"
   ]
  },
  {
   "cell_type": "markdown",
   "metadata": {},
   "source": [
    "- 集合成员的运算"
   ]
  },
  {
   "cell_type": "code",
   "execution_count": 77,
   "metadata": {},
   "outputs": [],
   "source": [
    "a = {1,2,3}"
   ]
  },
  {
   "cell_type": "code",
   "execution_count": 78,
   "metadata": {},
   "outputs": [
    {
     "name": "stdout",
     "output_type": "stream",
     "text": [
      "{(1, 2), 1, 2, 3}\n",
      "{1, 2}\n",
      "{(1, 2), 1, 2, 3, 5}\n",
      "{(1, 2), 1, 2, 3}\n",
      "{(1, 2)}\n",
      "True\n"
     ]
    }
   ],
   "source": [
    "a.add((1,2)) #添加对象\n",
    "print(a)\n",
    "\n",
    "print(a&{1,2}) #求交集\n",
    "\n",
    "print(a | {5}) #求并集\n",
    "\n",
    "print(a - {5}) #求差集\n",
    "\n",
    "print(a^{1,2,3}) #求并集减去交集\n",
    "\n",
    "print(a >= {3}) #查看是否为子集"
   ]
  },
  {
   "cell_type": "markdown",
   "metadata": {},
   "source": [
    "# 字典—重点"
   ]
  },
  {
   "cell_type": "markdown",
   "metadata": {},
   "source": [
    "- zip函数的用法"
   ]
  },
  {
   "cell_type": "code",
   "execution_count": 14,
   "metadata": {},
   "outputs": [
    {
     "name": "stdout",
     "output_type": "stream",
     "text": [
      "('kobe', 24)\n",
      "('wade', 3)\n"
     ]
    }
   ],
   "source": [
    "a = zip(['kobe','wade'],[24,3]) # 创建除了一个zip对象，其实际上是一个生成器，可以使用for循环取出\n",
    "for i in a:\n",
    "    print(i)"
   ]
  },
  {
   "cell_type": "markdown",
   "metadata": {},
   "source": [
    "- 创建字典的方法"
   ]
  },
  {
   "cell_type": "code",
   "execution_count": 19,
   "metadata": {},
   "outputs": [
    {
     "name": "stdout",
     "output_type": "stream",
     "text": [
      "{'kobe': 24, 'wade': 3}\n",
      "{'kobe': 24, 'wade': 3}\n",
      "{'kobe': 24, 'wade': 3}\n",
      "{0: 0, 1: 1, 2: 4}\n"
     ]
    }
   ],
   "source": [
    "#使用dict函数\n",
    "a = dict(kobe= 24,wade=3)\n",
    "print(a)\n",
    "\n",
    "# 通过zip函数将两个序列压成字典\n",
    "b = dict(zip(['kobe','wade'],[24,3]))\n",
    "print(b)\n",
    "\n",
    "# dict和元组结合的方式\n",
    "d = dict([('kobe', 24), ('wade', 3)])\n",
    "print(d)\n",
    "\n",
    "# 字典推导式\n",
    "c = {num : num**2 for num in range(3)}\n",
    "print(c)"
   ]
  },
  {
   "cell_type": "markdown",
   "metadata": {},
   "source": [
    "- 字典相关操作"
   ]
  },
  {
   "cell_type": "code",
   "execution_count": 20,
   "metadata": {},
   "outputs": [
    {
     "name": "stdout",
     "output_type": "stream",
     "text": [
      "{'kobe': 24, 'wade': 3, 'derozan': 10}\n",
      "5\n",
      "{'kobe': 24, 'wade': 3, 'derozan': 10}\n",
      "{'kobe': 24, 'wade': 3}\n",
      "{'kobe': 24}\n",
      "dict_keys(['kobe'])\n",
      "dict_values([24])\n",
      "{'kobe': 24, 'lavine': 24}\n",
      "{'kobe': 24, 'lavine': 24}\n",
      "('kobe', 24)\n",
      "('lavine', 24)\n",
      "{'kobe': 24, 'lavine': 24, 'rondon': 9}\n"
     ]
    }
   ],
   "source": [
    "a.update(derozan=10)#插入一对键值对\n",
    "print(a)\n",
    "\n",
    "print(a.get('kawai',5)) #获取key = kawai的值，如果不存在，则指定默认值为5\n",
    "print(a)\n",
    "\n",
    "a.popitem() #删除最后一对键值对\n",
    "print(a)\n",
    "\n",
    "a.pop('wade') #删除指定键值对\n",
    "print(a)\n",
    "\n",
    "print(a.keys()) #获取所有键\n",
    "\n",
    "print(a.values()) #获取所有值\n",
    "\n",
    "a.setdefault('lavine', 24) #插入一个键值对，当该键不存在时，有默认值24，否则无法改变原先存在的\n",
    "print(a)\n",
    "\n",
    "a.setdefault('lavine', 225) \n",
    "print(a)\n",
    "\n",
    "for i in a.items(): #获取字典的每个键值对象\n",
    "    print(i) #组合成了元组\n",
    "\n",
    "a.setdefault('rondon', 9)\n",
    "a.setdefault('rondon', 58) # setdefault，如果键已经存在，不做改变，不存在则给定一个默认的值\n",
    "print(a)"
   ]
  },
  {
   "cell_type": "markdown",
   "metadata": {},
   "source": [
    "- 字典的键只能是不可变类型：int,float,string,tuple"
   ]
  },
  {
   "cell_type": "code",
   "execution_count": 74,
   "metadata": {},
   "outputs": [
    {
     "ename": "TypeError",
     "evalue": "unhashable type: 'list'",
     "output_type": "error",
     "traceback": [
      "\u001b[1;31m---------------------------------------------------------------------------\u001b[0m",
      "\u001b[1;31mTypeError\u001b[0m                                 Traceback (most recent call last)",
      "\u001b[1;32m<ipython-input-74-b05c9c2b5c21>\u001b[0m in \u001b[0;36m<module>\u001b[1;34m\u001b[0m\n\u001b[1;32m----> 1\u001b[1;33m \u001b[0ma\u001b[0m\u001b[1;33m[\u001b[0m\u001b[1;33m[\u001b[0m\u001b[1;36m1\u001b[0m\u001b[1;33m,\u001b[0m\u001b[1;36m2\u001b[0m\u001b[1;33m,\u001b[0m\u001b[1;36m3\u001b[0m\u001b[1;33m]\u001b[0m\u001b[1;33m]\u001b[0m \u001b[1;33m=\u001b[0m \u001b[1;36m35\u001b[0m\u001b[1;33m\u001b[0m\u001b[1;33m\u001b[0m\u001b[0m\n\u001b[0m",
      "\u001b[1;31mTypeError\u001b[0m: unhashable type: 'list'"
     ]
    }
   ],
   "source": [
    "a[[1,2,3]] = 35"
   ]
  },
  {
   "cell_type": "markdown",
   "metadata": {},
   "source": [
    "# 面向对象支柱：封装、继承和多态\n",
    "类与类之间的关系：\n",
    "* is-a关系：继承  \n",
    "* has-a关系：关联 / 聚合 / 合成  \n",
    "* use-a关系：依赖  "
   ]
  },
  {
   "cell_type": "markdown",
   "metadata": {},
   "source": [
    "属性、方法的可见性：\n",
    " - Python当中类的属性和方法有私有和公开两种访问权限  \n",
    " - 私有方法或者属性，需要在属性和方法命名之前加上两个下划线 \n",
    " - 类变量，定义在类内，方法之外，每一个实例都可以访问和修改，类名.类变量，实例名.类变量\n",
    "     可以访问（调用时，先查找实例变量，在查找类变量）\n",
    "     - 注意，某个实例的实例变量与类变量同名，优先的是实例变量"
   ]
  },
  {
   "cell_type": "code",
   "execution_count": 80,
   "metadata": {},
   "outputs": [
    {
     "ename": "AttributeError",
     "evalue": "'Test' object has no attribute '__bar'",
     "output_type": "error",
     "traceback": [
      "\u001b[1;31m---------------------------------------------------------------------------\u001b[0m",
      "\u001b[1;31mAttributeError\u001b[0m                            Traceback (most recent call last)",
      "\u001b[1;32m<ipython-input-80-aa8136d28970>\u001b[0m in \u001b[0;36m<module>\u001b[1;34m\u001b[0m\n\u001b[0;32m     18\u001b[0m \u001b[1;33m\u001b[0m\u001b[0m\n\u001b[0;32m     19\u001b[0m \u001b[1;32mif\u001b[0m \u001b[0m__name__\u001b[0m \u001b[1;33m==\u001b[0m \u001b[1;34m\"__main__\"\u001b[0m\u001b[1;33m:\u001b[0m\u001b[1;33m\u001b[0m\u001b[1;33m\u001b[0m\u001b[0m\n\u001b[1;32m---> 20\u001b[1;33m     \u001b[0mmain\u001b[0m\u001b[1;33m(\u001b[0m\u001b[1;33m)\u001b[0m\u001b[1;33m\u001b[0m\u001b[1;33m\u001b[0m\u001b[0m\n\u001b[0m",
      "\u001b[1;32m<ipython-input-80-aa8136d28970>\u001b[0m in \u001b[0;36mmain\u001b[1;34m()\u001b[0m\n\u001b[0;32m     11\u001b[0m \u001b[1;32mdef\u001b[0m \u001b[0mmain\u001b[0m\u001b[1;33m(\u001b[0m\u001b[1;33m)\u001b[0m\u001b[1;33m:\u001b[0m\u001b[1;33m\u001b[0m\u001b[1;33m\u001b[0m\u001b[0m\n\u001b[0;32m     12\u001b[0m     \u001b[0mtest\u001b[0m \u001b[1;33m=\u001b[0m \u001b[0mTest\u001b[0m\u001b[1;33m(\u001b[0m\u001b[1;34m'hello'\u001b[0m\u001b[1;33m)\u001b[0m\u001b[1;33m\u001b[0m\u001b[1;33m\u001b[0m\u001b[0m\n\u001b[1;32m---> 13\u001b[1;33m     \u001b[0mtest\u001b[0m\u001b[1;33m.\u001b[0m\u001b[0m__bar\u001b[0m\u001b[1;33m(\u001b[0m\u001b[1;33m)\u001b[0m\u001b[1;31m#程序运行到这里会抛出no attribute错误，原因是无法在定义类的代码之外\u001b[0m\u001b[1;33m\u001b[0m\u001b[1;33m\u001b[0m\u001b[0m\n\u001b[0m\u001b[0;32m     14\u001b[0m     \u001b[1;31m#调用私有方法以及访问属性\u001b[0m\u001b[1;33m\u001b[0m\u001b[1;33m\u001b[0m\u001b[1;33m\u001b[0m\u001b[0m\n\u001b[0;32m     15\u001b[0m \u001b[1;33m\u001b[0m\u001b[0m\n",
      "\u001b[1;31mAttributeError\u001b[0m: 'Test' object has no attribute '__bar'"
     ]
    }
   ],
   "source": [
    "class Test:\n",
    "\n",
    "    def __init__(self, foo):\n",
    "        self.__foo = foo\n",
    "\n",
    "    def __bar(self):\n",
    "        print(self.__foo)\n",
    "        print('__bar')\n",
    "\n",
    "\n",
    "def main():\n",
    "    test = Test('hello')\n",
    "    test.__bar()#程序运行到这里会抛出no attribute错误，原因是无法在定义类的代码之外\n",
    "    #调用私有方法以及访问属性\n",
    "\n",
    "    print(test.__foo)# \n",
    "\n",
    "\n",
    "if __name__ == \"__main__\":\n",
    "    main()"
   ]
  },
  {
   "cell_type": "markdown",
   "metadata": {},
   "source": [
    " - @property方法，处理属性的私有和访问"
   ]
  },
  {
   "cell_type": "code",
   "execution_count": 1,
   "metadata": {},
   "outputs": [
    {
     "name": "stdout",
     "output_type": "stream",
     "text": [
      "王大锤正在玩飞行棋.\n",
      "22\n",
      "王大锤正在玩斗地主.\n"
     ]
    }
   ],
   "source": [
    "class Person(object):\n",
    "\n",
    "    def __init__(self, name, age):\n",
    "        self._name = name\n",
    "        self._age = age\n",
    "\n",
    "    # 访问器 - getter方法\n",
    "    @property #装饰器的思想，要访问和修改一个属性\n",
    "    #首先@property装饰一个返回原属性的方法\n",
    "    #然后再使用@age.setter装饰同名函数，函数内部实现属性修改\n",
    "    def name(self):\n",
    "        return self._name\n",
    "\n",
    "    # 访问器 - getter方法\n",
    "    @property\n",
    "    def age(self): # 使用property将方法转换成了属性，可以直接进行访问\n",
    "        return self._age\n",
    "\n",
    "    # 修改器 - setter方法\n",
    "    @age.setter\n",
    "    def age(self, age):\n",
    "        self._age = age\n",
    "\n",
    "    def play(self):\n",
    "        if self._age <= 16:\n",
    "            print('%s正在玩飞行棋.' % self._name)\n",
    "        else:\n",
    "            print('%s正在玩斗地主.' % self._name)\n",
    "\n",
    "\n",
    "def main():\n",
    "    person = Person('王大锤', 12)\n",
    "    person.play()\n",
    "    person.age = 22\n",
    "    print(person.age)\n",
    "    person.play()\n",
    "    # person.name = '白元芳'  # AttributeError: can't set attribute\n",
    "\n",
    "\n",
    "if __name__ == '__main__':\n",
    "    main()\n"
   ]
  },
  {
   "cell_type": "markdown",
   "metadata": {},
   "source": [
    "-  _slots__魔法，静态方法，类方法"
   ]
  },
  {
   "cell_type": "markdown",
   "metadata": {},
   "source": [
    "1.在类的初始化函数之前可以使用\\__slot\\__语句来限定该类下面的实例可以绑定的属性种类和个数  \n",
    "- \\_\\_slot\\_\\_slot魔法对继承该类的子类不起作用\n",
    "2.静态方法和类方法类似，都是类名所能调用的方法（在实例化某个对象之前）  \n",
    "3.静态方法查看下方代码，类方法查看时钟代码，为了避免混淆，建议只是用类名.静态方法的方式调用静态方法"
   ]
  },
  {
   "cell_type": "code",
   "execution_count": 86,
   "metadata": {},
   "outputs": [
    {
     "name": "stdout",
     "output_type": "stream",
     "text": [
      "kizaki's cup is C\n",
      "kizaki's cup is C\n"
     ]
    }
   ],
   "source": [
    "class AvModels(object):\n",
    "    __slots__ = ('_name','_cup','_age')\n",
    "    def __init__(self,_name,_cup,_age):\n",
    "        self._name = _name\n",
    "        self._cup = _cup\n",
    "        self._age = _age\n",
    "    @staticmethod\n",
    "    def isRetired(age): #静态方法可以在实例化以前进行调用，因此self特殊参数不可以作为其\n",
    "        #参数，调用格式为  类名.方法名(),需要传入其需要的参数\n",
    "        return True if age > 35  else False\n",
    "    def show(self):\n",
    "        print(f'{self._name}\\'s cup is {self._cup}')\n",
    "model = AvModels('kizaki','C','36')\n",
    "# model.height = 168 AttributeError: 'AvModels' object has no attribute 'height'\n",
    "model.show()\n",
    "AvModels.isRetired(38)\n",
    "\n",
    "#在复杂项目中使用模块等来组件类时，实例方法的调用方式为\n",
    "AvModels.show(model)"
   ]
  },
  {
   "cell_type": "markdown",
   "metadata": {},
   "source": [
    "- 类方法，使用cls关键字,即cls作为静态方法的默认参数"
   ]
  },
  {
   "cell_type": "code",
   "execution_count": 87,
   "metadata": {},
   "outputs": [
    {
     "name": "stdout",
     "output_type": "stream",
     "text": [
      "time.struct_time(tm_year=2021, tm_mon=8, tm_mday=8, tm_hour=14, tm_min=57, tm_sec=54, tm_wday=6, tm_yday=220, tm_isdst=0)\n",
      "<class '__main__.Clock'>\n",
      "14:57:55\n",
      "14:57:56\n",
      "14:57:57\n",
      "14:57:58\n",
      "14:57:59\n",
      "14:58:0\n",
      "14:58:1\n",
      "14:58:2\n",
      "14:58:3\n",
      "14:58:4\n",
      "14:58:5\n",
      "14:58:6\n",
      "14:58:7\n",
      "14:58:8\n",
      "14:58:9\n",
      "14:58:10\n",
      "14:58:11\n",
      "14:58:12\n",
      "14:58:13\n",
      "14:58:14\n",
      "14:58:15\n",
      "14:58:16\n",
      "14:58:17\n",
      "14:58:18\n",
      "14:58:19\n",
      "14:58:20\n",
      "14:58:21\n",
      "14:58:22\n",
      "14:58:23\n"
     ]
    },
    {
     "ename": "KeyboardInterrupt",
     "evalue": "",
     "output_type": "error",
     "traceback": [
      "\u001b[1;31m---------------------------------------------------------------------------\u001b[0m",
      "\u001b[1;31mKeyboardInterrupt\u001b[0m                         Traceback (most recent call last)",
      "\u001b[1;32m<ipython-input-87-874b30506040>\u001b[0m in \u001b[0;36m<module>\u001b[1;34m\u001b[0m\n\u001b[0;32m     34\u001b[0m         \u001b[0mprint\u001b[0m\u001b[1;33m(\u001b[0m\u001b[1;34mf'{time_now.hour}:{time_now.minute}:{time_now.second}'\u001b[0m\u001b[1;33m)\u001b[0m\u001b[1;33m\u001b[0m\u001b[1;33m\u001b[0m\u001b[0m\n\u001b[0;32m     35\u001b[0m \u001b[1;32mif\u001b[0m \u001b[0m__name__\u001b[0m \u001b[1;33m==\u001b[0m \u001b[1;34m'__main__'\u001b[0m\u001b[1;33m:\u001b[0m\u001b[1;33m\u001b[0m\u001b[1;33m\u001b[0m\u001b[0m\n\u001b[1;32m---> 36\u001b[1;33m     \u001b[0mmain\u001b[0m\u001b[1;33m(\u001b[0m\u001b[1;33m)\u001b[0m\u001b[1;33m\u001b[0m\u001b[1;33m\u001b[0m\u001b[0m\n\u001b[0m",
      "\u001b[1;32m<ipython-input-87-874b30506040>\u001b[0m in \u001b[0;36mmain\u001b[1;34m()\u001b[0m\n\u001b[0;32m     30\u001b[0m     \u001b[0mtime_now\u001b[0m \u001b[1;33m=\u001b[0m \u001b[0mClock\u001b[0m\u001b[1;33m.\u001b[0m\u001b[0mnow\u001b[0m\u001b[1;33m(\u001b[0m\u001b[1;33m)\u001b[0m\u001b[1;33m\u001b[0m\u001b[1;33m\u001b[0m\u001b[0m\n\u001b[0;32m     31\u001b[0m     \u001b[1;32mfor\u001b[0m \u001b[0mi\u001b[0m \u001b[1;32min\u001b[0m \u001b[0mrange\u001b[0m\u001b[1;33m(\u001b[0m\u001b[1;36m3600\u001b[0m\u001b[1;33m)\u001b[0m\u001b[1;33m:\u001b[0m\u001b[1;33m\u001b[0m\u001b[1;33m\u001b[0m\u001b[0m\n\u001b[1;32m---> 32\u001b[1;33m         \u001b[0msleep\u001b[0m\u001b[1;33m(\u001b[0m\u001b[1;36m1\u001b[0m\u001b[1;33m)\u001b[0m\u001b[1;33m\u001b[0m\u001b[1;33m\u001b[0m\u001b[0m\n\u001b[0m\u001b[0;32m     33\u001b[0m         \u001b[0mtime_now\u001b[0m\u001b[1;33m.\u001b[0m\u001b[0mrun\u001b[0m\u001b[1;33m(\u001b[0m\u001b[1;33m)\u001b[0m\u001b[1;33m\u001b[0m\u001b[1;33m\u001b[0m\u001b[0m\n\u001b[0;32m     34\u001b[0m         \u001b[0mprint\u001b[0m\u001b[1;33m(\u001b[0m\u001b[1;34mf'{time_now.hour}:{time_now.minute}:{time_now.second}'\u001b[0m\u001b[1;33m)\u001b[0m\u001b[1;33m\u001b[0m\u001b[1;33m\u001b[0m\u001b[0m\n",
      "\u001b[1;31mKeyboardInterrupt\u001b[0m: "
     ]
    }
   ],
   "source": [
    "from time import sleep,time,localtime\n",
    "\n",
    "class Clock(object):\n",
    "    def __init__(self,hour,minute,second):\n",
    "        self.hour = hour\n",
    "        self.minute = minute\n",
    "        self.second = second\n",
    "        \n",
    "    @classmethod #类方法定义格式\n",
    "    def now(cls): #首个参数指定为cls\n",
    "        ctime = localtime(time())\n",
    "        print(ctime)\n",
    "        print(cls) #cls指向Clock类\n",
    "        return cls(ctime.tm_hour,ctime.tm_min,ctime.tm_sec) #这里实际上返回了一个Clock实例对象,(时，分，秒)\n",
    "        \n",
    "        \n",
    "    def run(self):\n",
    "        self.second += 1\n",
    "        if self.second == 60:\n",
    "            self.second = 0\n",
    "            self.minute += 1\n",
    "            if self.minute == 60:\n",
    "                self.minute = 0\n",
    "                self.hour += 1\n",
    "                if self.hour == 24:\n",
    "                    self.hour = 0\n",
    "                    self.second = 0\n",
    "                    self.minute = 0\n",
    "def main():\n",
    "    time_now = Clock.now()\n",
    "    for i in range(3600):\n",
    "        sleep(1)\n",
    "        time_now.run()\n",
    "        print(f'{time_now.hour}:{time_now.minute}:{time_now.second}')\n",
    "if __name__ == '__main__':\n",
    "    main()      "
   ]
  },
  {
   "attachments": {
    "image.png": {
     "image/png": "[encoded data removed]"
    }
   },
   "cell_type": "markdown",
   "metadata": {},
   "source": [
    "### 类，类的方法、类变量、类的实例和实例变量在内存中的储存\n",
    "![image.png](attachment:image.png)"
   ]
  },
  {
   "cell_type": "markdown",
   "metadata": {},
   "source": [
    " ### 继承和多态"
   ]
  },
  {
   "cell_type": "markdown",
   "metadata": {},
   "source": [
    "- 在已有类的基础上创建新类，即继承父类，子类将会继承父类中的属性和方法。\n",
    "- 模板性的，重复的，共有的代码可以放在父类里，其他类继承之后便具有了该功能。\n",
    "- 子类继承了父类的方法以后，在内部可以对方法进行更新，加强其功能，称为多态  \n",
    "- 以一个简单的例子来理解继承，多态以及super().\\__init\\__函数的用法  \n",
    "- 无法实例化的类称为抽象类，Python中可以abc模块来实现，抽象类不可以进行实例化，是专门用来被别的对象继承的类"
   ]
  },
  {
   "cell_type": "markdown",
   "metadata": {},
   "source": [
    "### 在子类中强制调用父类方法的语句\n",
    "super(父类，self).父类方法（父类参数1，父类参数2....）"
   ]
  },
  {
   "cell_type": "code",
   "execution_count": 94,
   "metadata": {},
   "outputs": [
    {
     "name": "stdout",
     "output_type": "stream",
     "text": [
      "<super: <class 'B'>, <B object>>\n",
      "3\n"
     ]
    }
   ],
   "source": [
    "class A:\n",
    "     def add(self, x):\n",
    "         y = x+1\n",
    "         print(y)\n",
    "class B(A):\n",
    "    def add(self, x):\n",
    "        print(super())\n",
    "        super().add(x) #super()用来调用父类中相同名字的方法\n",
    "b = B()\n",
    "b.add(2)  #代码的执行过程为，b调用add函数，进入函数后，执行A.add(x)，即y = 2+1=3 ,print(3)"
   ]
  },
  {
   "cell_type": "code",
   "execution_count": 15,
   "metadata": {},
   "outputs": [
    {
     "name": "stdout",
     "output_type": "stream",
     "text": [
      "Parent\n",
      "Child\n",
      "HelloWorld from Parent\n",
      "Child bar fuction\n",
      "I'm the parent.\n"
     ]
    }
   ],
   "source": [
    "class FooParent(object):\n",
    "    def __init__(self):\n",
    "        self.parent = 'I\\'m the parent.'\n",
    "        print ('Parent')\n",
    "    \n",
    "    def bar(self,message):\n",
    "        print (\"%s from Parent\" % message)\n",
    " \n",
    "class FooChild(FooParent):\n",
    "    def __init__(self):\n",
    "        # super(FooChild,self) 首先找到 FooChild 的父类（就是类 FooParent），然后把类 FooChild 的对象转换为类 FooParent 的对象\n",
    "        super(FooChild,self).__init__()    \n",
    "        print ('Child')\n",
    "    \n",
    "    #这里的代码逻辑关系较为复杂   \n",
    "    def bar(self,message):\n",
    "        #子类调用bar方法时，首先会将self参数传递给父类\n",
    "        super(FooChild, self).bar(message) #这里运行的实际上是FooParent内的bar函数，运行结果为HelloWorld from Parent\n",
    "        print ('Child bar fuction')\n",
    "        print (self.parent) \n",
    " \n",
    "if __name__ == '__main__':\n",
    "    fooChild = FooChild()\n",
    "    fooChild.bar('HelloWorld')"
   ]
  },
  {
   "cell_type": "markdown",
   "metadata": {},
   "source": [
    "### Python3的继承机制\n",
    " - 多重继承时，按照先后顺序去父类中寻找方法\n",
    " - 在父类中搜索方法和变量时，按照最短路径原则查找"
   ]
  },
  {
   "cell_type": "markdown",
   "metadata": {},
   "source": [
    "### 设计模式初阶"
   ]
  },
  {
   "cell_type": "markdown",
   "metadata": {},
   "source": [
    "# GUI用户界面(参考白夜)"
   ]
  },
  {
   "cell_type": "markdown",
   "metadata": {},
   "source": [
    "# 文件读取和异常处理"
   ]
  },
  {
   "cell_type": "markdown",
   "metadata": {},
   "source": [
    "1. 使用Python中的open函数可以打开指定路径下的文件，打开模式，编码方式\n",
    "2. 指定读取方式，包括以下多种：  \n",
    "    'r'\t读取 （默认）  \n",
    "    'w'\t写入（会先截断之前的内容）  \n",
    "    'x'\t写入，如果文件已经存在会产生异常  \n",
    "    'a'\t追加，将内容写入到已有文件的末尾  \n",
    "    'b'\t二进制模式  \n",
    "    't'\t文本模式（默认）  \n",
    "    '+'\t更新（既可以读又可以写）  "
   ]
  },
  {
   "cell_type": "code",
   "execution_count": 29,
   "metadata": {},
   "outputs": [
    {
     "name": "stdout",
     "output_type": "stream",
     "text": [
      "我深爱的这篇土地\n"
     ]
    }
   ],
   "source": [
    "def main():\n",
    "    f = open('致橡树','w') #以写入模式打开致橡树文件，如果文件不存在将创建新的文件\n",
    "    f.write('我深爱的这篇土地') #写入字符串\n",
    "    f.close()\n",
    "    f = open('致橡树','r')\n",
    "    print(f.readline())\n",
    "if __name__ == '__main__':\n",
    "    main()"
   ]
  },
  {
   "cell_type": "markdown",
   "metadata": {},
   "source": [
    "- 异常处理：Try,Except语句"
   ]
  },
  {
   "cell_type": "code",
   "execution_count": 97,
   "metadata": {},
   "outputs": [
    {
     "name": "stdout",
     "output_type": "stream",
     "text": [
      "无法打开指定的文件!\n"
     ]
    }
   ],
   "source": [
    "def main():\n",
    "    f = None\n",
    "    try: #尝试执行try缩进块下的语句，如果出现错误，将执行except抛出错误信息\n",
    "        f = open('致橡树1.txt', 'r', encoding='utf-8')\n",
    "        print(f.read())\n",
    "    except FileNotFoundError:\n",
    "        print('无法打开指定的文件!')\n",
    "    except LookupError:\n",
    "        print('指定了未知的编码!')\n",
    "    except UnicodeDecodeError:\n",
    "        print('读取文件时解码错误!')\n",
    "    finally: #不管有没有错误被抛出都将执行，释放出程序资源\n",
    "        if f:\n",
    "            f.close()\n",
    "\n",
    "\n",
    "if __name__ == '__main__':\n",
    "    main()\n"
   ]
  },
  {
   "cell_type": "markdown",
   "metadata": {},
   "source": [
    "# 常用内置模块\n",
    "- collections内置模块中有很多方法可以帮助刷题"
   ]
  },
  {
   "cell_type": "markdown",
   "metadata": {},
   "source": [
    "- nametuple"
   ]
  },
  {
   "cell_type": "code",
   "execution_count": 19,
   "metadata": {},
   "outputs": [
    {
     "name": "stdout",
     "output_type": "stream",
     "text": [
      "1\n",
      "True\n"
     ]
    }
   ],
   "source": [
    "from collections import namedtuple\n",
    "Point = namedtuple('Point', ['x','y'])\n",
    "print(p.x) #可以使用索引来访问tuple中的元素\n",
    "print(isinstance(p,tuple))"
   ]
  },
  {
   "cell_type": "markdown",
   "metadata": {},
   "source": [
    "- deque 双端队列"
   ]
  },
  {
   "cell_type": "code",
   "execution_count": 22,
   "metadata": {},
   "outputs": [
    {
     "name": "stdout",
     "output_type": "stream",
     "text": [
      "deque([0, 1, 2, 3, 4, 5, 6])\n",
      "deque([1, 2, 3, 4, 5])\n"
     ]
    }
   ],
   "source": [
    "#双端队列\n",
    "from collections import deque\n",
    "\n",
    "a = deque([1,2,3,4,5])\n",
    "a.append(6)\n",
    "a.appendleft(0) #可以在左侧进行添加\n",
    "print(a)\n",
    "\n",
    "a.pop()\n",
    "a.popleft() #可以在左侧删除\n",
    "print(a)"
   ]
  },
  {
   "cell_type": "markdown",
   "metadata": {},
   "source": [
    "- defaultdic 当字典中的key值不存在时，抛出默认值"
   ]
  },
  {
   "cell_type": "code",
   "execution_count": 28,
   "metadata": {},
   "outputs": [
    {
     "name": "stdout",
     "output_type": "stream",
     "text": [
      "akari\n",
      "kizaki\n"
     ]
    }
   ],
   "source": [
    "from collections import defaultdict\n",
    "dd = defaultdict(lambda: 'kizaki')\n",
    "dd[1] = 'akari'\n",
    "print(dd[1])\n",
    "print(dd[2]) #实际上2这个键是不存在的，调用匿名函数返回了默认的值"
   ]
  },
  {
   "cell_type": "markdown",
   "metadata": {},
   "source": [
    "- orderedict 字典中保持键的顺序"
   ]
  },
  {
   "cell_type": "code",
   "execution_count": 39,
   "metadata": {},
   "outputs": [
    {
     "name": "stdout",
     "output_type": "stream",
     "text": [
      "OrderedDict([(1, 'a'), (10, 'b'), (2, 'c')])\n"
     ]
    }
   ],
   "source": [
    "from collections import OrderedDict\n",
    "d = dict([('a', 1), ('b', 2), ('c', 3)]) #通常情况下字典的键是无序的\n",
    "\n",
    "od = OrderedDict([('a', 1), ('b', 2), ('c', 3)]) # 使用orderedDict后键是由顺序的\n",
    "\n",
    "# 其顺序是按照插入字典的顺序\n",
    "\n",
    "dic = OrderedDict()\n",
    "dic[1] = 'a'\n",
    "dic[10] = 'b'\n",
    "dic[2] = 'c'\n",
    "print(dic) #按照插入顺序排序，而不是按照数字，字母等的顺序\n"
   ]
  },
  {
   "cell_type": "markdown",
   "metadata": {},
   "source": [
    "- Counter计数器，通常情况是使用dict来+for循环遍历来计数"
   ]
  },
  {
   "cell_type": "code",
   "execution_count": 51,
   "metadata": {},
   "outputs": [
    {
     "name": "stdout",
     "output_type": "stream",
     "text": [
      "Counter({'b': 7, 'c': 6, 'a': 1})\n",
      "[('b', 7)]\n"
     ]
    }
   ],
   "source": [
    "from collections import Counter\n",
    "a = 'abcbcbcbbcbccb'\n",
    "print(Counter(a)) #将可迭代对象中的每个元素的出现自出统计后返回字典\n",
    "print(Counter(a).most_common(1)) #去除出现次数最多的前n个元素"
   ]
  },
  {
   "cell_type": "markdown",
   "metadata": {},
   "source": [
    "### itertools 用来操作可迭代对象的函数模块\n",
    "- count,cycle,repeat等等函数"
   ]
  },
  {
   "cell_type": "code",
   "execution_count": 53,
   "metadata": {
    "collapsed": true
   },
   "outputs": [
    {
     "name": "stdout",
     "output_type": "stream",
     "text": [
      "1\n",
      "2\n",
      "3\n",
      "4\n",
      "5\n",
      "6\n"
     ]
    },
    {
     "ename": "KeyboardInterrupt",
     "evalue": "",
     "output_type": "error",
     "traceback": [
      "\u001b[1;31m---------------------------------------------------------------------------\u001b[0m",
      "\u001b[1;31mKeyboardInterrupt\u001b[0m                         Traceback (most recent call last)",
      "\u001b[1;32m<ipython-input-53-ba8e1712127f>\u001b[0m in \u001b[0;36m<module>\u001b[1;34m\u001b[0m\n\u001b[0;32m      4\u001b[0m \u001b[1;32mfor\u001b[0m \u001b[0mi\u001b[0m \u001b[1;32min\u001b[0m \u001b[0mziranshu\u001b[0m\u001b[1;33m:\u001b[0m\u001b[1;33m\u001b[0m\u001b[1;33m\u001b[0m\u001b[0m\n\u001b[0;32m      5\u001b[0m     \u001b[0mprint\u001b[0m\u001b[1;33m(\u001b[0m\u001b[0mi\u001b[0m\u001b[1;33m)\u001b[0m\u001b[1;33m\u001b[0m\u001b[1;33m\u001b[0m\u001b[0m\n\u001b[1;32m----> 6\u001b[1;33m     \u001b[0mtime\u001b[0m\u001b[1;33m.\u001b[0m\u001b[0msleep\u001b[0m\u001b[1;33m(\u001b[0m\u001b[1;36m2\u001b[0m\u001b[1;33m)\u001b[0m\u001b[1;33m\u001b[0m\u001b[1;33m\u001b[0m\u001b[0m\n\u001b[0m",
      "\u001b[1;31mKeyboardInterrupt\u001b[0m: "
     ]
    }
   ],
   "source": [
    "import itertools as it\n",
    "import time\n",
    "ziranshu = it.count(1) #使用Count进行迭代计数\n",
    "for i in ziranshu:\n",
    "    print(i)\n",
    "    time.sleep(2)"
   ]
  },
  {
   "cell_type": "code",
   "execution_count": 57,
   "metadata": {
    "collapsed": true
   },
   "outputs": [
    {
     "name": "stdout",
     "output_type": "stream",
     "text": [
      "a\n",
      "a\n",
      "a\n",
      "a\n",
      "a\n",
      "a\n",
      "a\n"
     ]
    },
    {
     "ename": "KeyboardInterrupt",
     "evalue": "",
     "output_type": "error",
     "traceback": [
      "\u001b[1;31m---------------------------------------------------------------------------\u001b[0m",
      "\u001b[1;31mKeyboardInterrupt\u001b[0m                         Traceback (most recent call last)",
      "\u001b[1;32m<ipython-input-57-a12ac375c3c1>\u001b[0m in \u001b[0;36m<module>\u001b[1;34m\u001b[0m\n\u001b[0;32m      2\u001b[0m \u001b[1;32mfor\u001b[0m \u001b[0mi\u001b[0m \u001b[1;32min\u001b[0m \u001b[0ma\u001b[0m\u001b[1;33m:\u001b[0m\u001b[1;33m\u001b[0m\u001b[1;33m\u001b[0m\u001b[0m\n\u001b[0;32m      3\u001b[0m     \u001b[0mprint\u001b[0m\u001b[1;33m(\u001b[0m\u001b[0mi\u001b[0m\u001b[1;33m)\u001b[0m\u001b[1;33m\u001b[0m\u001b[1;33m\u001b[0m\u001b[0m\n\u001b[1;32m----> 4\u001b[1;33m     \u001b[0mtime\u001b[0m\u001b[1;33m.\u001b[0m\u001b[0msleep\u001b[0m\u001b[1;33m(\u001b[0m\u001b[1;36m2\u001b[0m\u001b[1;33m)\u001b[0m\u001b[1;33m\u001b[0m\u001b[1;33m\u001b[0m\u001b[0m\n\u001b[0m",
      "\u001b[1;31mKeyboardInterrupt\u001b[0m: "
     ]
    }
   ],
   "source": [
    "a = it.cycle('a') #一直重复显示字符串\n",
    "for i in a:\n",
    "    print(i)\n",
    "    time.sleep(2)"
   ]
  },
  {
   "cell_type": "code",
   "execution_count": 58,
   "metadata": {
    "collapsed": true
   },
   "outputs": [
    {
     "name": "stdout",
     "output_type": "stream",
     "text": [
      "I wanna have sex\n",
      "I wanna have sex\n",
      "I wanna have sex\n"
     ]
    }
   ],
   "source": [
    "rep = it.repeat('I wanna have sex', 3 ) #指定字符串的重复次数\n",
    "for i in rep:\n",
    "    print(i)"
   ]
  },
  {
   "cell_type": "code",
   "execution_count": 59,
   "metadata": {},
   "outputs": [
    {
     "data": {
      "text/plain": [
       "[1, 2, 3, 4, 5, 6, 7, 8, 9, 10]"
      ]
     },
     "execution_count": 59,
     "metadata": {},
     "output_type": "execute_result"
    }
   ],
   "source": [
    "# 使用takewhile来进行筛选\n",
    "natuals = itertools.count(1)\n",
    "ns = itertools.takewhile(lambda x: x <= 10, natuals)\n",
    "list(ns)"
   ]
  },
  {
   "cell_type": "code",
   "execution_count": 65,
   "metadata": {
    "collapsed": true
   },
   "outputs": [
    {
     "name": "stdout",
     "output_type": "stream",
     "text": [
      "a\n",
      "b\n",
      "c\n",
      "d\n"
     ]
    }
   ],
   "source": [
    "# 使用Chain来进行串联\n",
    "for i in it.chain('ab', 'cd'):\n",
    "    print(i)"
   ]
  },
  {
   "cell_type": "code",
   "execution_count": 68,
   "metadata": {
    "collapsed": true
   },
   "outputs": [
    {
     "name": "stdout",
     "output_type": "stream",
     "text": [
      "A ['A', 'A', 'A', 'A', 'A', 'A', 'A']\n",
      "B ['B', 'B', 'B', 'B', 'B', 'B', 'B']\n",
      "C ['C', 'C', 'C', 'C', 'C', 'C', 'C', 'C']\n",
      "D ['D', 'D', 'D', 'D', 'D', 'D', 'D', 'D']\n"
     ]
    }
   ],
   "source": [
    "# group by聚合函数，将相邻的相同元素分组在一起\n",
    "for key, group in it.groupby('AAAAAAABBBBBBBCCCCCCCCDDDDDDDD'):\n",
    "    print(key,list(group))"
   ]
  },
  {
   "cell_type": "markdown",
   "metadata": {},
   "source": [
    "# 函数的参数与性质\n",
    "* 函数可以赋值给变量\n",
    "* 函数可以作为函数的参数\n",
    "* 函数可以作为函数的返回值\n",
    "\n",
    "* 函数的参数包括，位置参数，可变参数，关键字参数，命名关键字参数\n",
    "* 参数的元信息，类似于leetcode里的,制定出输入参数和返回值的类型(int,list,bool）  \n",
    "提升代码可读性"
   ]
  },
  {
   "cell_type": "markdown",
   "metadata": {},
   "source": [
    " ### 高阶函数用法，map,reduce,filter,匿名函数lambda"
   ]
  },
  {
   "cell_type": "code",
   "execution_count": 108,
   "metadata": {},
   "outputs": [
    {
     "data": {
      "text/plain": [
       "[1, 4, 9, 16, 25]"
      ]
     },
     "execution_count": 108,
     "metadata": {},
     "output_type": "execute_result"
    }
   ],
   "source": [
    "# 求列表中每个元素的平方\n",
    "list(map(lambda x:x**2,[1,2,3,4,5]))"
   ]
  },
  {
   "cell_type": "code",
   "execution_count": 113,
   "metadata": {},
   "outputs": [
    {
     "data": {
      "text/plain": [
       "15"
      ]
     },
     "execution_count": 113,
     "metadata": {},
     "output_type": "execute_result"
    }
   ],
   "source": [
    "# 使用reduce求列表和\n",
    "from functools import reduce\n",
    "reduce(lambda x,y:x + y,[1,2,3,4,5])"
   ]
  },
  {
   "cell_type": "code",
   "execution_count": 115,
   "metadata": {},
   "outputs": [
    {
     "data": {
      "text/plain": [
       "[11, 12, 13, 14, 15, 16, 17, 18, 19]"
      ]
     },
     "execution_count": 115,
     "metadata": {},
     "output_type": "execute_result"
    }
   ],
   "source": [
    "# 使用filter进行筛选,筛选出大于10的数值\n",
    "list(filter(lambda x: x>10,[i for i in range(20)]))"
   ]
  },
  {
   "cell_type": "markdown",
   "metadata": {},
   "source": [
    "# Python装饰器 （面向切面编程）"
   ]
  },
  {
   "cell_type": "markdown",
   "metadata": {},
   "source": [
    "1. 装饰器是用来给Python中的函数或者类的方法增加功能的语言糖，被装饰的函数作为装饰器函数 \n",
    "的参数，用下面的例子来进行详细的理解\n",
    "2. 装饰器多用于各种框架和库中\n",
    "3. 当被装饰的函数所含参数个数可变时，可以在装饰器中传入可变参数\n",
    "4. \\*args表示任意多个未指定参数名的参数,\\**kargs表示任意多个关键字参数\n",
    "5. \\*args，\\**kargs同时使用时，前者在前"
   ]
  },
  {
   "cell_type": "markdown",
   "metadata": {},
   "source": [
    "### 实现一个打印函数执行时间的装饰器"
   ]
  },
  {
   "cell_type": "code",
   "execution_count": 43,
   "metadata": {},
   "outputs": [
    {
     "name": "stdout",
     "output_type": "stream",
     "text": [
      "函数的执行时间为：0.0\n",
      "33\n",
      "fuck\n"
     ]
    }
   ],
   "source": [
    "def record_time(func):\n",
    "    import time\n",
    "    start = time.time()\n",
    "    def wrap(*args,**kwargs): #这样的参数定义方式，实际含义是，无论该函数的参数\n",
    "        # 是什么类型，该装饰器都可以装饰该函数\n",
    "        print(f'函数的执行时间为：{time.time()-start}')\n",
    "        return func(*args,**kwargs)\n",
    "    return wrap\n",
    "@record_time\n",
    "def f(a,b,c,av='kizaki'):\n",
    "    print(a+b+c)\n",
    "    print('fuck')\n",
    "f(10,11,12)"
   ]
  },
  {
   "cell_type": "markdown",
   "metadata": {},
   "source": [
    "## Python 进程，线程，协程(并发编程)\n",
    "参考《Python并行编程中文版》单独总结"
   ]
  },
  {
   "cell_type": "markdown",
   "metadata": {},
   "source": [
    "- 有两种创建线程的方法\n",
    "  - 一种是继承Thread类，并且重写run方法\n",
    "  - 一种是将线程要执行的函数作为参数传递进去"
   ]
  },
  {
   "cell_type": "code",
   "execution_count": 1,
   "metadata": {},
   "outputs": [
    {
     "name": "stdout",
     "output_type": "stream",
     "text": [
      "当前线程：thread_0当前线程：thread_1\n",
      "当前线程：thread_2\n",
      "当前线程：thread_3\n",
      "\n",
      "当前线程：thread_4当前线程：thread_5当前线程：thread_6\n",
      "\n",
      "当前线程：thread_7\n",
      "当前线程：thread_8\n",
      "\n",
      "当前线程：thread_9\n"
     ]
    }
   ],
   "source": [
    "import threading\n",
    "class MyThread(threading.Thread): #集成Thread类\n",
    "    def __init__(self, thread_name):\n",
    "        super(MyThread, self).__init__(name=thread_name)\n",
    "    def run(self):\n",
    "        print(f'当前线程：{self.name}')\n",
    "        \n",
    "for i in range(10):\n",
    "    MyThread(f'thread_{i}').start() # 启动线程会直接开始运行MyThread中的Run函数"
   ]
  },
  {
   "cell_type": "code",
   "execution_count": 2,
   "metadata": {},
   "outputs": [
    {
     "name": "stdout",
     "output_type": "stream",
     "text": [
      "当前线程是：8当前线程是：0当前线程是：9当前线程是：3\n",
      "\n",
      "当前线程是：4\n",
      "当前线程是：6\n",
      "当前线程是：7\n",
      "当前线程是：2当前线程是：1\n",
      "\n",
      "当前线程是：5\n",
      "\n",
      "\n"
     ]
    }
   ],
   "source": [
    "# 传参\n",
    "import threading\n",
    "import time\n",
    "def run(args):\n",
    "    time.sleep(1)\n",
    "    print(f'当前线程是：{args}')\n",
    "    \n",
    "for i in range(10):\n",
    "    a = threading.Thread(target=run,args=(i,)) #实例化一个线程，传入目标函数\n",
    "    a.start()"
   ]
  },
  {
   "cell_type": "markdown",
   "metadata": {},
   "source": [
    "#### Thread类的参数\n",
    "`threading.Thread(self, group=None, target=None, name=None,\n",
    "     args=(), kwargs=None, *, daemon=None)`  \n",
    "  - 参数group是预留的，用于将来扩展  \n",
    "  - 参数target是一个可调用对象，在线程启动后执行  \n",
    "  - 参数name是线程的名字。默认值为“Thread-N“，N是一个数字  \n",
    "  - 参数args和kwargs分别表示调用target时的参数列表和关键字参数\n",
    " #### 对于多线程任务，各个线程之间的地位是均等的\n",
    "  - 一旦进行调度，每个线程只是自私的完成自己应该完成的任务，不再关注定义线程函数  \n",
    "      先后位置"
   ]
  },
  {
   "cell_type": "markdown",
   "metadata": {},
   "source": [
    "## Python网络编程TCP，UDP等等"
   ]
  },
  {
   "attachments": {
    "image.png": {
     "image/png": "[encoded data removed]"
    }
   },
   "cell_type": "markdown",
   "metadata": {},
   "source": [
    "### socket编程\n",
    " - socket 是基于C/S架构的，编写两个.py文件，服务端和客户端\n",
    " - 以下是socket编程的核心逻辑\n",
    " ![image.png](attachment:image.png)\n",
    " - socket 编程流程\n",
    "  - 服务端：\n",
    "    - 创建套接字，绑定套接字到本地IP与端口：   socket.socket(socket.AF_INET,socket.SOCK_STREAM) , s.bind()\n",
    "    - 开始监听连接：s.listen()\n",
    "    - 进入循环，不断接受客户端的连接请求：s.accept()\n",
    "    - 接收传来的数据，或者发送数据给对方：s.recv() , s.sendall()\n",
    "    - 传输完毕后，关闭套接字：s.close()\n",
    "  - 客户端:\n",
    "    - 创建套接字，连接服务器地址：socket.socket(socket.AF_INET,socket.SOCK_STREAM) , s.connect()\n",
    "    - 连接后发送数据和接收数据：s.sendall(), s.recv()\n",
    "    - 传输完毕后，关闭套接字：s.close() "
   ]
  },
  {
   "cell_type": "code",
   "execution_count": null,
   "metadata": {},
   "outputs": [],
   "source": []
  }
 ],
 "metadata": {
  "kernelspec": {
   "display_name": "Python 3",
   "language": "python",
   "name": "python3"
  },
  "language_info": {
   "codemirror_mode": {
    "name": "ipython",
    "version": 3
   },
   "file_extension": ".py",
   "mimetype": "text/x-python",
   "name": "python",
   "nbconvert_exporter": "python",
   "pygments_lexer": "ipython3",
   "version": "3.7.9"
  }
 },
 "nbformat": 4,
 "nbformat_minor": 4
}
