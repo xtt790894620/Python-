{
 "cells": [
  {
   "cell_type": "markdown",
   "metadata": {},
   "source": [
    "## 关于Python的面试题，整理自GitHub两个关于Python面试的仓库1-2"
   ]
  },
  {
   "cell_type": "markdown",
   "metadata": {},
   "source": [
    "### 1. is 和 == 的区别\n",
    "is 比较的是内存地址是否一致\n",
    "== 比较的是变量的内容是否一致\n",
    "\n",
    "Python为了优化性能，在-6-256的数值范围内嵌了一个链表，如果整型变量的取值在该范围内  Python不会重新设置新的对象（Python一切皆对象），参照下文的代码"
   ]
  },
  {
   "cell_type": "code",
   "execution_count": 14,
   "metadata": {},
   "outputs": [
    {
     "name": "stdout",
     "output_type": "stream",
     "text": [
      "True\n",
      "False\n",
      "True\n",
      "True\n"
     ]
    }
   ],
   "source": [
    "a = 257\n",
    "b = 257\n",
    "print(a == b) #返回1，因为a,b变量的内容，数值相等\n",
    "print(a is b) #返回0，两个变量指向不同的内存地址\n",
    "\n",
    "\n",
    "c = 55\n",
    "d = 55\n",
    "print(c == d) #返回1，因为a,b变量的内容，数值相等\n",
    "print(c is d) #返回1,见上文的原因，指向同一内存地址"
   ]
  },
  {
   "cell_type": "markdown",
   "metadata": {},
   "source": [
    "还需要注意的是，Python语言在同一代码块下，赋相同值的不同变量指向同一内存地址  \n",
    "同一代码块：一个模块，一个函数体，一个类，交互式（Jupyter）的一行代码"
   ]
  },
  {
   "cell_type": "code",
   "execution_count": 15,
   "metadata": {},
   "outputs": [
    {
     "name": "stdout",
     "output_type": "stream",
     "text": [
      "True\n",
      "False\n"
     ]
    }
   ],
   "source": [
    "c = 257\n",
    "def main():\n",
    "    a = 257\n",
    "    b = 257\n",
    "    print(a is b) #返回1，原因如上\n",
    "    print(a is c) #返回0\n",
    "if __name__ == '__main__':\n",
    "    main()"
   ]
  },
  {
   "cell_type": "markdown",
   "metadata": {},
   "source": [
    "## 2. 嵌套列表的坑"
   ]
  },
  {
   "cell_type": "markdown",
   "metadata": {},
   "source": [
    "- Pyhton的列表为一种容器，可以用来承载其他的对象，同时也可以承载容器对象，下方的代码b其实是对内层列表容器对象的引用，他记录了对象在内存中的地址  \n",
    "- 通过访问该内存地址，可以访问到对象，当我们使用乘法的方式来构建嵌套列表时,实际是将[0]\\*3这个内部列表的地址进行了5次复制，一旦更改了某个值\n",
    "- 所有的五个容器内的元素的值都会一起更改"
   ]
  },
  {
   "cell_type": "code",
   "execution_count": 16,
   "metadata": {},
   "outputs": [
    {
     "name": "stdout",
     "output_type": "stream",
     "text": [
      "2700065850568\n",
      "2700065850568\n",
      "2700065850568\n",
      "2700065850568\n",
      "2700065850568\n",
      "[100, 0, 0]\n",
      "[100, 0, 0]\n",
      "[100, 0, 0]\n",
      "[100, 0, 0]\n",
      "[100, 0, 0]\n"
     ]
    }
   ],
   "source": [
    "b = [[0] * 3] * 5\n",
    "for i in b:\n",
    "    print(id(i)) #使用id函数查看内部列表的地址，发现均是同一个地址\n",
    "\n",
    "b[0][0] = 100\n",
    "for i in b:\n",
    "    print(i) #更改了某一元素时，所有内部容器的值都发生了变更"
   ]
  },
  {
   "cell_type": "markdown",
   "metadata": {},
   "source": [
    "- 正确的列表嵌套写法"
   ]
  },
  {
   "cell_type": "code",
   "execution_count": 17,
   "metadata": {},
   "outputs": [
    {
     "name": "stdout",
     "output_type": "stream",
     "text": [
      "2700065013704\n",
      "2700065124424\n",
      "2700064280776\n",
      "2700065010824\n",
      "2700065578504\n"
     ]
    }
   ],
   "source": [
    "b = [[0] * 3 for _ in range(5)]\n",
    "for i in b:\n",
    "    print(id(i)) #每一个内部列表都指向了不同的地址，引用了不同的对象"
   ]
  },
  {
   "cell_type": "markdown",
   "metadata": {},
   "source": [
    "## 3. 高阶函数 Filter/Map/Reduce,匿名函数lambda"
   ]
  },
  {
   "cell_type": "code",
   "execution_count": 29,
   "metadata": {},
   "outputs": [
    {
     "name": "stdout",
     "output_type": "stream",
     "text": [
      "<map object at 0x00000198011A05C8>\n",
      "[0, 1, 2, 3, 4, 5, 6, 7, 8, 9]\n",
      "[0, 1, 4, 9, 16]\n"
     ]
    }
   ],
   "source": [
    "'''map函数接受一个函数和一个可迭代对象为参数，将函数作用于可迭代对象的每一个元素上\n",
    "返回一个迭代器\n",
    "匿名函数lambda可以不指定函数的名称，语法为lambda 变量：表达式'''\n",
    "print(map(abs,[(-1)**i*i for i in range(10)])) #返回一个迭代器，可迭代对象:filter\n",
    "print(list(map(abs,[(-1)**i*i for i in range(10)])))\n",
    "print(list(map(lambda x:x**2,[i for i in range(5)]))) #传入匿名函数作为参数"
   ]
  },
  {
   "cell_type": "code",
   "execution_count": 19,
   "metadata": {},
   "outputs": [
    {
     "name": "stdout",
     "output_type": "stream",
     "text": [
      "120\n"
     ]
    }
   ],
   "source": [
    "'''reduce函数将一个数据集合（链表，元组等）中的所有数据\n",
    "进行下列操作：用传给 reduce 中的函数 function（有两个参数）\n",
    "先对集合中的第 1、2 个元素进行操作，得到的结果\n",
    "再与第三个数据用 function 函数运算，最后得到一个结果。\n",
    "'''\n",
    "from functools import reduce\n",
    "print(reduce(lambda x,y:x*y,[1,2,3,4,5])) #reduce内部传入的参数必须含有两个参数"
   ]
  },
  {
   "cell_type": "code",
   "execution_count": 24,
   "metadata": {},
   "outputs": [
    {
     "data": {
      "text/plain": [
       "[5, 6]"
      ]
     },
     "execution_count": 24,
     "metadata": {},
     "output_type": "execute_result"
    }
   ],
   "source": [
    "'''filter函数用于过滤序列，过滤掉不符合条件的元素，返回由符合条件元素组成的新列表。\n",
    "filter接收两个参数，第一个为函数，第二个为序列，\n",
    "序列的每个元素作为参数传递给函数进行判断，\n",
    "然后返回 True 或 False，最后将返回 True 的元素放到新列表中。\n",
    "调用方法filter(function, iterable)，第二个参数可以是列表，也可以是懒列表'''\n",
    "list(filter(lambda x:x>0,[-1.-4,5,6])) #返回一个filter对象，也是一个可迭代对象(懒惰列表)\n",
    "#传入的lambda函数返回1或0，其意义就是，筛选出列表中大于0的元素"
   ]
  },
  {
   "cell_type": "markdown",
   "metadata": {},
   "source": [
    "## 4. \\*args 和 \\*\\*args以及不指定个数的可迭代对象解压方法"
   ]
  },
  {
   "cell_type": "code",
   "execution_count": 110,
   "metadata": {},
   "outputs": [
    {
     "name": "stdout",
     "output_type": "stream",
     "text": [
      "([1, 2, 3, 5],)\n",
      "{'a': 5, 'b': 6}\n"
     ]
    }
   ],
   "source": [
    "'''f函数的两个参数均为可变参数，即参数的个数时不固定的，\n",
    "前者为可变位置参数，后者为可变关键字参数(两者顺序不可以交换)'''\n",
    "def f(*args,**kargs): \n",
    "    print(args)\n",
    "    print(kargs)\n",
    "f([1,2,3,5],a=5,b=6)"
   ]
  },
  {
   "cell_type": "code",
   "execution_count": 111,
   "metadata": {},
   "outputs": [
    {
     "name": "stdout",
     "output_type": "stream",
     "text": [
      "name: tom other: {'gender': 'male', 'cup': 'd'}\n"
     ]
    }
   ],
   "source": [
    "'''关键字参数需要放置两个*号，下面的函数接收个数不定的可变参数（变量名=值）\n",
    "在函数调用时，会自动将其组织为键值对的形式'''\n",
    "def f1(name,**kw):\n",
    "    print('name:',name,'other:',kw)\n",
    "f1('tom',gender='male',cup = 'd')   "
   ]
  },
  {
   "cell_type": "code",
   "execution_count": 33,
   "metadata": {},
   "outputs": [
    {
     "name": "stdout",
     "output_type": "stream",
     "text": [
      "name: kizaki age: 18 male D\n"
     ]
    },
    {
     "ename": "TypeError",
     "evalue": "f2() got an unexpected keyword argument 'city'",
     "output_type": "error",
     "traceback": [
      "\u001b[1;31m---------------------------------------------------------------------------\u001b[0m",
      "\u001b[1;31mTypeError\u001b[0m                                 Traceback (most recent call last)",
      "\u001b[1;32m<ipython-input-33-7727694ff700>\u001b[0m in \u001b[0;36m<module>\u001b[1;34m\u001b[0m\n\u001b[0;32m      3\u001b[0m     \u001b[0mprint\u001b[0m\u001b[1;33m(\u001b[0m\u001b[1;34m'name:'\u001b[0m\u001b[1;33m,\u001b[0m\u001b[0mname\u001b[0m\u001b[1;33m,\u001b[0m\u001b[1;34m'age:'\u001b[0m\u001b[1;33m,\u001b[0m\u001b[0mage\u001b[0m\u001b[1;33m,\u001b[0m\u001b[0mgender\u001b[0m\u001b[1;33m,\u001b[0m\u001b[0mcup\u001b[0m\u001b[1;33m)\u001b[0m\u001b[1;33m\u001b[0m\u001b[1;33m\u001b[0m\u001b[0m\n\u001b[0;32m      4\u001b[0m \u001b[0mf2\u001b[0m\u001b[1;33m(\u001b[0m\u001b[1;34m'kizaki'\u001b[0m\u001b[1;33m,\u001b[0m \u001b[1;36m18\u001b[0m\u001b[1;33m,\u001b[0m \u001b[0mgender\u001b[0m\u001b[1;33m=\u001b[0m\u001b[1;34m'male'\u001b[0m\u001b[1;33m,\u001b[0m \u001b[0mcup\u001b[0m\u001b[1;33m=\u001b[0m\u001b[1;34m'D'\u001b[0m\u001b[1;33m)\u001b[0m\u001b[1;33m\u001b[0m\u001b[1;33m\u001b[0m\u001b[0m\n\u001b[1;32m----> 5\u001b[1;33m \u001b[0mf2\u001b[0m\u001b[1;33m(\u001b[0m\u001b[1;34m'akari'\u001b[0m\u001b[1;33m,\u001b[0m \u001b[1;36m20\u001b[0m\u001b[1;33m,\u001b[0m \u001b[0mgender\u001b[0m\u001b[1;33m=\u001b[0m\u001b[1;34m'male'\u001b[0m\u001b[1;33m,\u001b[0m \u001b[0mcity\u001b[0m\u001b[1;33m=\u001b[0m\u001b[1;34m'tokoyo'\u001b[0m\u001b[1;33m)\u001b[0m\u001b[1;33m\u001b[0m\u001b[1;33m\u001b[0m\u001b[0m\n\u001b[0m",
      "\u001b[1;31mTypeError\u001b[0m: f2() got an unexpected keyword argument 'city'"
     ]
    }
   ],
   "source": [
    "'''命名关键字参数:限制关键字参数的名称'''\n",
    "def f2(name,age,*,gender,cup):\n",
    "    print('name:',name,'age:',age,gender,cup)\n",
    "f2('kizaki', 18, gender='male', cup='D')\n",
    "f2('akari', 20, gender='male', city='tokoyo')"
   ]
  },
  {
   "cell_type": "code",
   "execution_count": 27,
   "metadata": {},
   "outputs": [
    {
     "name": "stdout",
     "output_type": "stream",
     "text": [
      "15+16=31\n",
      "15+16=31\n"
     ]
    }
   ],
   "source": [
    "# 调用函数时，也可以使用*，**对传入参数进行解压缩,将字典解压成关键字 键=值\n",
    "def f(a,b,c):\n",
    "    print(f'{a}+{b}={c}')\n",
    "f(**{'a':15,'b':16,'c':31})\n",
    "\n",
    "def f1(a,b,c):\n",
    "    print(f'{a}+{b}={c}')\n",
    "f1(*[15,16,31])"
   ]
  },
  {
   "cell_type": "markdown",
   "metadata": {},
   "source": [
    "## 5. 闭包，变量的作用域\n",
    "在一个内部函数中，对外部作用域的变量进行引用，(并且一般外部函数的返回值为内部函数)  \n",
    "内部函数就被认为是闭包  \n",
    "变量的作用域：变量的作用域总是在代码中变量被赋值的地方所决定  \n",
    "变量的搜索路径：Local-Enclosing locals-Global-builtin  \n",
    "* Local即局部空间，函数体内部定义的名称（包括函数参数）\n",
    "* Enclosing：非全局，也非局部的\n",
    "* Global是全局空间\n",
    "* builtin:即函数内部自带的名称，如abs函数等"
   ]
  },
  {
   "cell_type": "code",
   "execution_count": 1,
   "metadata": {},
   "outputs": [
    {
     "name": "stdout",
     "output_type": "stream",
     "text": [
      "<function x at 0x000001462ED6BA68>\n",
      "<function x at 0x000001462ED6B0D8>\n"
     ]
    }
   ],
   "source": [
    "def x():\n",
    "    pass\n",
    "print(x)\n",
    "def x():\n",
    "    pass\n",
    "print(x)"
   ]
  },
  {
   "cell_type": "code",
   "execution_count": 6,
   "metadata": {},
   "outputs": [
    {
     "name": "stdout",
     "output_type": "stream",
     "text": [
      "<function f1.<locals>.f2 at 0x0000019661B17C18>\n",
      "False\n",
      "True\n"
     ]
    },
    {
     "data": {
      "text/plain": [
       "25"
      ]
     },
     "execution_count": 6,
     "metadata": {},
     "output_type": "execute_result"
    }
   ],
   "source": [
    "# 一个简单的闭包函数的例子\n",
    "def f1(a):\n",
    "    def f2():\n",
    "        return a*a\n",
    "    return f2 #返回函数，而不是返回函数的调用\n",
    "print(f1(5)) #调用外部函数，返回内函数的引用(地址)\n",
    "print(f1(4) == f1(4)) #返回值为函数f2,每次外部调用都会创建一个新的对象(引用不同的地址)\n",
    "print(f1==f1) #返回True，外部函数f1之定义了一次，只有一个地址\n",
    "f1(5)() #调用内部函数"
   ]
  },
  {
   "cell_type": "code",
   "execution_count": 4,
   "metadata": {},
   "outputs": [
    {
     "name": "stdout",
     "output_type": "stream",
     "text": [
      "4\n",
      "4\n",
      "4\n"
     ]
    }
   ],
   "source": [
    "'''\n",
    "1. Python的问题就在于，当循环结束以后，循环体中的临时变量i不会销毁，\n",
    "   而是继续存在于执行环境中。\n",
    "2. 还有一个python的现象是，\n",
    "   python的函数只有在执行时，才会去找函数体里的变量的值。\n",
    "3. 可能有些人认为这段代码的执行结果应该是2,3,4.但是实际的结果是4,4,4。\n",
    "   loop在python中是没有域的概念的，flist在像列表中添加func的时候， \n",
    "   并没有保存i的值，而是当执行f(2)的时候才去取， \n",
    "   这时候循环已经结束，i的值是2，所以结果都是4''' \n",
    "flist = []  \n",
    "for i in range(3):   \n",
    "    def foo(x):\n",
    "        print(x + i) \n",
    "    flist.append(foo)\n",
    "for f in flist:   \n",
    "    f(2)"
   ]
  },
  {
   "cell_type": "markdown",
   "metadata": {},
   "source": [
    "# 6. Python的垃圾回收机制\n",
    "[Python垃圾回收](https://sutune.me/2018/10/14/python-GC/)"
   ]
  },
  {
   "cell_type": "markdown",
   "metadata": {},
   "source": [
    "# 7. 变量的进阶理解\n",
    "[变量、引用（函数参数）、可变与不可变类型、变量的作用域](https://www.cnblogs.com/guigujun/p/9926446.html)"
   ]
  },
  {
   "cell_type": "markdown",
   "metadata": {},
   "source": [
    "# 8. Python中的元类\n",
    "[深入理解Python元类](https://www.cnblogs.com/JetpropelledSnake/p/9094103.html)"
   ]
  },
  {
   "cell_type": "markdown",
   "metadata": {},
   "source": [
    "# 9. 格式化字符串的三种写法"
   ]
  },
  {
   "cell_type": "code",
   "execution_count": 23,
   "metadata": {},
   "outputs": [
    {
     "name": "stdout",
     "output_type": "stream",
     "text": [
      "我想要的工资数额为：15000.0\n",
      "我想要的工资数额为：15000\n",
      "我想要的工资数额为：15000.00\n"
     ]
    }
   ],
   "source": [
    "salary = 15000\n",
    "print(f'我想要的工资数额为：{salary:.1f}')\n",
    "print('我想要的工资数额为：%s'%salary)\n",
    "\n",
    "#format使用方法为在原始字符串中用{idx}占位\n",
    "print('我想要的工资数额为：{0:.2f}'.format(salary))"
   ]
  },
  {
   "cell_type": "markdown",
   "metadata": {},
   "source": [
    "# 10. 迭代器和生成器"
   ]
  },
  {
   "cell_type": "markdown",
   "metadata": {},
   "source": [
    "本节代码示例中，list1为可迭代对象，可以使用for循环进行迭代遍历  \n",
    "可以在list1上迭代n次，因为其中的每个元素都是存储在内存上的  \n",
    "\n",
    "将列表生成式的[]转变为(),或者在函数中使用yield关键词以产生生成器  \n",
    "生成器对象只有每次对其进行迭代时，才会生成所对应的一个值，  \n",
    "并且在生成该值后，下一次迭代会在内存中丢弃上一个值，因此如  \n",
    "(列表生成式)这种类型的迭代器只能进行一次迭代  \n",
    "(某些情况下可以起到节省内存空间的作用)，而函数式迭代器可以进行  \n",
    "无数次迭代，因为每次调用函数都会重新创造出该迭代器对象  \n"
   ]
  },
  {
   "cell_type": "code",
   "execution_count": 18,
   "metadata": {},
   "outputs": [
    {
     "name": "stdout",
     "output_type": "stream",
     "text": [
      "<class 'list'>\n",
      "<class 'list_iterator'>\n",
      "<generator object <genexpr> at 0x000001980147DA48>\n",
      "0\n",
      "1\n",
      "2\n"
     ]
    }
   ],
   "source": [
    "list1 = [i for i in range(3)]\n",
    "print(type(list1))\n",
    "print(type(iter(list1))) #列表是一个可迭代对象，但是不是迭代器，调用iter()后构建为迭代器\n",
    "gen1 = (i for i in range(3))\n",
    "print(gen1) #generator对象，生成器\n",
    "for i in gen1:\n",
    "    print(i)\n",
    "for i in gen1: #只能进行一次迭代遍历\n",
    "    print(i)"
   ]
  },
  {
   "cell_type": "code",
   "execution_count": 126,
   "metadata": {},
   "outputs": [
    {
     "name": "stdout",
     "output_type": "stream",
     "text": [
      "<generator object f at 0x00000207973D1BC8>\n",
      "0\n",
      "1\n",
      "2\n"
     ]
    }
   ],
   "source": [
    "def f():\n",
    "    for i in range(3):\n",
    "        yield i\n",
    "print(f()) #调用f函数，f()为一个生成器对象\n",
    "\n",
    "#迭代遍历得到第i个元素\n",
    "for i in f():\n",
    "    print(i)"
   ]
  },
  {
   "cell_type": "markdown",
   "metadata": {},
   "source": [
    "# 11. 装饰器、面向切面编程"
   ]
  },
  {
   "cell_type": "markdown",
   "metadata": {},
   "source": [
    "[装饰器高阶](https://stackoverflow.com/questions/739654/how-to-make-function-decorators-and-chain-them-together)    \n",
    "* 进阶写法包括链式装饰器，装饰器装饰器的装饰器\n",
    "* 面向切面编程AOP实际上就是指装饰器,其应用于插入日志，性能测试，事务处理等方面\n",
    "* 为已经存在的对象(函数，类的方法）增加新的功能"
   ]
  },
  {
   "cell_type": "markdown",
   "metadata": {},
   "source": [
    "# 12. 鸭子类型\n",
    "“当看到一只鸟走起来像鸭子、游泳起来像鸭子、叫起来也像鸭子，那么这只鸟就可以被称为鸭子。”\n",
    "\n",
    "我们并不关心对象是什么类型，到底是不是鸭子，只关心行为。\n",
    "\n",
    "比如在python中，有很多file-like的东西，比如StringIO,GzipFile,socket。它们有很多相同的方法，我们把它们当作文件使用。\n",
    "\n",
    "又比如list.extend()方法中,我们并不关心它的参数是不是list,只要它是可迭代的,所以它的参数可以是list/tuple/dict/字符串/生成器等.\n",
    "\n",
    "鸭子类型在动态语言中经常使用，非常灵活，使得python不像java那样专门去弄一大堆的设计模式。"
   ]
  },
  {
   "cell_type": "markdown",
   "metadata": {},
   "source": [
    "# 13.函数重载\n",
    "函数重载（英语：function overloading），是Ada、C++、C#、D和Java等编程语言中具有的一项特性，这项特性允许创建数项名称相同但输入输出类型或个数不同的子程序，它可以简单地称为一个单独功能可以执行多项任务的能力。"
   ]
  },
  {
   "cell_type": "markdown",
   "metadata": {},
   "source": [
    "# 14. read,readline,readlines的区别\n",
    "* read 读取整个文件\n",
    "* readline 读取下一行,使用生成器方法\n",
    "* readlines 读取整个文件到一个迭代器以供我们遍历"
   ]
  },
  {
   "cell_type": "markdown",
   "metadata": {},
   "source": [
    "# 15. super().\\__init\\__语句的含义，用法"
   ]
  },
  {
   "cell_type": "markdown",
   "metadata": {},
   "source": [
    "# 16. 单例模式的实现"
   ]
  },
  {
   "cell_type": "code",
   "execution_count": null,
   "metadata": {},
   "outputs": [],
   "source": []
  }
 ],
 "metadata": {
  "kernelspec": {
   "display_name": "Python 3",
   "language": "python",
   "name": "python3"
  },
  "language_info": {
   "codemirror_mode": {
    "name": "ipython",
    "version": 3
   },
   "file_extension": ".py",
   "mimetype": "text/x-python",
   "name": "python",
   "nbconvert_exporter": "python",
   "pygments_lexer": "ipython3",
   "version": "3.7.9"
  }
 },
 "nbformat": 4,
 "nbformat_minor": 4
}
